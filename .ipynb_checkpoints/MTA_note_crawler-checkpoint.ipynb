{
 "cells": [
  {
   "cell_type": "code",
   "execution_count": 1,
   "metadata": {
    "collapsed": true
   },
   "outputs": [],
   "source": [
    "import pandas as pd\n",
    "import urllib.request\n",
    "import re\n",
    "import datetime\n",
    "import itertools"
   ]
  },
  {
   "cell_type": "code",
   "execution_count": 2,
   "metadata": {
    "collapsed": true
   },
   "outputs": [],
   "source": [
    "def get_data(ur1):\n",
    "    return str(urllib.request.urlopen(ur1).read())\n",
    "\n",
    "def extract(data):\n",
    "    result = data.split(\"underline\")\n",
    "    result = list(map(lambda x: x.split('</a><br/>')[0] , result))[1:]\n",
    "    return result\n",
    "\n",
    "def drop_bi(data):\n",
    "    data = list(map(lambda x: re.sub('<b><i>(.*?)</i>', '<b>',x) , data))\n",
    "    return data\n",
    "\n",
    "def drop(data):\n",
    "    data = list(map(lambda x: x.split('<b>')[1] , data))\n",
    "    return data\n",
    "\n",
    "def rep(s):\n",
    "    a= s.replace(\"<IMG src=\\\\'images/\",' ').replace('6d', '6').replace(\".png\\\\' >\",'_LINE')\n",
    "    \n",
    "    return re.sub('<[^>]+>', '', a)\n",
    "\n",
    "def rep_ls(ls):\n",
    "    return list(map(rep, ls))\n",
    "\n",
    "def drop_ff(ls, string):\n",
    "    return list(map(lambda x: x.replace(string, ''), ls))\n",
    "\n",
    "def clean(url):\n",
    "    data = get_data(url)\n",
    "    data = extract(data)\n",
    "    data = drop_bi(data)\n",
    "    data = drop(data)\n",
    "    data = rep_ls(data)\n",
    "    data = drop_ff(data,\"F&F_Pos_16 (LINE)\")\n",
    "    data = drop_ff(data,\"&nbsp;\")\n",
    "    data = drop_ff(data,\"\\\\\")\n",
    "    return data"
   ]
  },
  {
   "cell_type": "code",
   "execution_count": 3,
   "metadata": {
    "collapsed": true
   },
   "outputs": [],
   "source": [
    "def get_clean_data(data):\n",
    "    url = 'http://travel.mtanyct.info/serviceadvisory/routeStatusResult.aspx?tag=ALL&date='+data+'&time=&method=getstatus4'\n",
    "    return clean(url)"
   ]
  },
  {
   "cell_type": "code",
   "execution_count": 1,
   "metadata": {},
   "outputs": [],
   "source": [
    "#get_clean_data('11/5/2017')"
   ]
  },
  {
   "cell_type": "code",
   "execution_count": 5,
   "metadata": {
    "collapsed": true
   },
   "outputs": [],
   "source": [
    "def get_data_over_period(start, num_of_days):\n",
    "    start_date = datetime.datetime.strptime(start, '%m/%d/20%y')\n",
    "    date_list = [start_date + datetime.timedelta(days=x) for x in range(0, num_of_days)]\n",
    "    dates = list(map(lambda x: x.strftime('%m/%d/20%y'), date_list))\n",
    "    dataset = []\n",
    "    dataset = list(map(get_clean_data, dates))\n",
    "    answer = set(list(list(itertools.chain.from_iterable(dataset))))\n",
    "    return answer"
   ]
  },
  {
   "cell_type": "code",
   "execution_count": 6,
   "metadata": {
    "collapsed": true
   },
   "outputs": [],
   "source": [
    "#n = get_data_over_period('11/5/2017', 2)"
   ]
  },
  {
   "cell_type": "code",
   "execution_count": 8,
   "metadata": {
    "collapsed": true
   },
   "outputs": [],
   "source": [
    "# text_file = open(\"Output.txt\", \"w\")\n",
    "# for s in n:\n",
    "#     text_file.write(s+\"\\n\")\n",
    "# text_file.close()"
   ]
  },
  {
   "cell_type": "code",
   "execution_count": null,
   "metadata": {
    "collapsed": true
   },
   "outputs": [],
   "source": []
  }
 ],
 "metadata": {
  "kernelspec": {
   "display_name": "Python 3",
   "language": "python",
   "name": "python3"
  },
  "language_info": {
   "codemirror_mode": {
    "name": "ipython",
    "version": 3
   },
   "file_extension": ".py",
   "mimetype": "text/x-python",
   "name": "python",
   "nbconvert_exporter": "python",
   "pygments_lexer": "ipython3",
   "version": "3.6.1"
  }
 },
 "nbformat": 4,
 "nbformat_minor": 2
}
