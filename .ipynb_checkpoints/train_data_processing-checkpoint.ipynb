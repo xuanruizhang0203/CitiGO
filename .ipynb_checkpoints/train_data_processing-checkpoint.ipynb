{
 "cells": [
  {
   "cell_type": "code",
   "execution_count": 1,
   "metadata": {
    "collapsed": true
   },
   "outputs": [],
   "source": [
    "import pandas as pd\n",
    "import numpy as np\n",
    "import re\n",
    "\n",
    "%matplotlib inline"
   ]
  },
  {
   "cell_type": "code",
   "execution_count": 2,
   "metadata": {
    "collapsed": true
   },
   "outputs": [],
   "source": [
    "subway = pd.read_csv('subway_stations.csv')"
   ]
  },
  {
   "cell_type": "code",
   "execution_count": 3,
   "metadata": {
    "collapsed": true
   },
   "outputs": [],
   "source": [
    "def new_name(s):\n",
    "    a = re.sub(r\"(?<=\\d)(st|nd|rd|th)\\b\", '', s)\n",
    "    a = re.sub(r\"(?<=\\S) Ave\", \" Av\", a)\n",
    "    a = re.sub(r\"Ave (?=\\w)\", \"Avenue \", a)\n",
    "    a = re.sub(r\" - \", \"-\", a)\n",
    "\n",
    "    return a\n",
    "\n",
    "subway.NAME = subway.NAME.apply(lambda x: new_name(x))"
   ]
  },
  {
   "cell_type": "code",
   "execution_count": 4,
   "metadata": {},
   "outputs": [
    {
     "data": {
      "text/html": [
       "<div>\n",
       "<style>\n",
       "    .dataframe thead tr:only-child th {\n",
       "        text-align: right;\n",
       "    }\n",
       "\n",
       "    .dataframe thead th {\n",
       "        text-align: left;\n",
       "    }\n",
       "\n",
       "    .dataframe tbody tr th {\n",
       "        vertical-align: top;\n",
       "    }\n",
       "</style>\n",
       "<table border=\"1\" class=\"dataframe\">\n",
       "  <thead>\n",
       "    <tr style=\"text-align: right;\">\n",
       "      <th></th>\n",
       "      <th>URL</th>\n",
       "      <th>OBJECTID</th>\n",
       "      <th>NAME</th>\n",
       "      <th>the_geom</th>\n",
       "      <th>LINE</th>\n",
       "      <th>NOTES</th>\n",
       "    </tr>\n",
       "  </thead>\n",
       "  <tbody>\n",
       "    <tr>\n",
       "      <th>0</th>\n",
       "      <td>http://web.mta.info/nyct/service/</td>\n",
       "      <td>1</td>\n",
       "      <td>Astor Pl</td>\n",
       "      <td>POINT (-73.99106999861966 40.73005400028978)</td>\n",
       "      <td>4-6-6 Express</td>\n",
       "      <td>4 nights, 6-all times, 6 Express-weekdays AM s...</td>\n",
       "    </tr>\n",
       "    <tr>\n",
       "      <th>1</th>\n",
       "      <td>http://web.mta.info/nyct/service/</td>\n",
       "      <td>2</td>\n",
       "      <td>Canal St</td>\n",
       "      <td>POINT (-74.00019299927328 40.71880300107709)</td>\n",
       "      <td>4-6-6 Express</td>\n",
       "      <td>4 nights, 6-all times, 6 Express-weekdays AM s...</td>\n",
       "    </tr>\n",
       "    <tr>\n",
       "      <th>2</th>\n",
       "      <td>http://web.mta.info/nyct/service/</td>\n",
       "      <td>3</td>\n",
       "      <td>50 St</td>\n",
       "      <td>POINT (-73.98384899986625 40.76172799961419)</td>\n",
       "      <td>1-2</td>\n",
       "      <td>1-all times, 2-nights</td>\n",
       "    </tr>\n",
       "    <tr>\n",
       "      <th>3</th>\n",
       "      <td>http://web.mta.info/nyct/service/</td>\n",
       "      <td>4</td>\n",
       "      <td>Bergen St</td>\n",
       "      <td>POINT (-73.97499915116808 40.68086213682956)</td>\n",
       "      <td>2-3-4</td>\n",
       "      <td>4-nights, 3-all other times, 2-all times</td>\n",
       "    </tr>\n",
       "    <tr>\n",
       "      <th>4</th>\n",
       "      <td>http://web.mta.info/nyct/service/</td>\n",
       "      <td>5</td>\n",
       "      <td>Pennsylvania Av</td>\n",
       "      <td>POINT (-73.89488591154061 40.66471445143568)</td>\n",
       "      <td>3-4</td>\n",
       "      <td>4-nights, 3-all other times</td>\n",
       "    </tr>\n",
       "  </tbody>\n",
       "</table>\n",
       "</div>"
      ],
      "text/plain": [
       "                                 URL  OBJECTID             NAME  \\\n",
       "0  http://web.mta.info/nyct/service/         1         Astor Pl   \n",
       "1  http://web.mta.info/nyct/service/         2         Canal St   \n",
       "2  http://web.mta.info/nyct/service/         3            50 St   \n",
       "3  http://web.mta.info/nyct/service/         4        Bergen St   \n",
       "4  http://web.mta.info/nyct/service/         5  Pennsylvania Av   \n",
       "\n",
       "                                       the_geom           LINE  \\\n",
       "0  POINT (-73.99106999861966 40.73005400028978)  4-6-6 Express   \n",
       "1  POINT (-74.00019299927328 40.71880300107709)  4-6-6 Express   \n",
       "2  POINT (-73.98384899986625 40.76172799961419)            1-2   \n",
       "3  POINT (-73.97499915116808 40.68086213682956)          2-3-4   \n",
       "4  POINT (-73.89488591154061 40.66471445143568)            3-4   \n",
       "\n",
       "                                               NOTES  \n",
       "0  4 nights, 6-all times, 6 Express-weekdays AM s...  \n",
       "1  4 nights, 6-all times, 6 Express-weekdays AM s...  \n",
       "2                              1-all times, 2-nights  \n",
       "3           4-nights, 3-all other times, 2-all times  \n",
       "4                        4-nights, 3-all other times  "
      ]
     },
     "execution_count": 4,
     "metadata": {},
     "output_type": "execute_result"
    }
   ],
   "source": [
    "subway.head(5)"
   ]
  },
  {
   "cell_type": "code",
   "execution_count": 5,
   "metadata": {
    "collapsed": true
   },
   "outputs": [],
   "source": [
    "def split(s):\n",
    "    return s.split('-')"
   ]
  },
  {
   "cell_type": "code",
   "execution_count": 6,
   "metadata": {},
   "outputs": [
    {
     "data": {
      "text/html": [
       "<div>\n",
       "<style>\n",
       "    .dataframe thead tr:only-child th {\n",
       "        text-align: right;\n",
       "    }\n",
       "\n",
       "    .dataframe thead th {\n",
       "        text-align: left;\n",
       "    }\n",
       "\n",
       "    .dataframe tbody tr th {\n",
       "        vertical-align: top;\n",
       "    }\n",
       "</style>\n",
       "<table border=\"1\" class=\"dataframe\">\n",
       "  <thead>\n",
       "    <tr style=\"text-align: right;\">\n",
       "      <th></th>\n",
       "      <th>URL</th>\n",
       "      <th>OBJECTID</th>\n",
       "      <th>NAME</th>\n",
       "      <th>the_geom</th>\n",
       "      <th>LINE</th>\n",
       "      <th>NOTES</th>\n",
       "    </tr>\n",
       "  </thead>\n",
       "  <tbody>\n",
       "    <tr>\n",
       "      <th>0</th>\n",
       "      <td>http://web.mta.info/nyct/service/</td>\n",
       "      <td>1</td>\n",
       "      <td>Astor Pl</td>\n",
       "      <td>POINT (-73.99106999861966 40.73005400028978)</td>\n",
       "      <td>[4, 6, 6 Express]</td>\n",
       "      <td>4 nights, 6-all times, 6 Express-weekdays AM s...</td>\n",
       "    </tr>\n",
       "    <tr>\n",
       "      <th>1</th>\n",
       "      <td>http://web.mta.info/nyct/service/</td>\n",
       "      <td>2</td>\n",
       "      <td>Canal St</td>\n",
       "      <td>POINT (-74.00019299927328 40.71880300107709)</td>\n",
       "      <td>[4, 6, 6 Express]</td>\n",
       "      <td>4 nights, 6-all times, 6 Express-weekdays AM s...</td>\n",
       "    </tr>\n",
       "    <tr>\n",
       "      <th>2</th>\n",
       "      <td>http://web.mta.info/nyct/service/</td>\n",
       "      <td>3</td>\n",
       "      <td>50 St</td>\n",
       "      <td>POINT (-73.98384899986625 40.76172799961419)</td>\n",
       "      <td>[1, 2]</td>\n",
       "      <td>1-all times, 2-nights</td>\n",
       "    </tr>\n",
       "    <tr>\n",
       "      <th>3</th>\n",
       "      <td>http://web.mta.info/nyct/service/</td>\n",
       "      <td>4</td>\n",
       "      <td>Bergen St</td>\n",
       "      <td>POINT (-73.97499915116808 40.68086213682956)</td>\n",
       "      <td>[2, 3, 4]</td>\n",
       "      <td>4-nights, 3-all other times, 2-all times</td>\n",
       "    </tr>\n",
       "    <tr>\n",
       "      <th>4</th>\n",
       "      <td>http://web.mta.info/nyct/service/</td>\n",
       "      <td>5</td>\n",
       "      <td>Pennsylvania Av</td>\n",
       "      <td>POINT (-73.89488591154061 40.66471445143568)</td>\n",
       "      <td>[3, 4]</td>\n",
       "      <td>4-nights, 3-all other times</td>\n",
       "    </tr>\n",
       "  </tbody>\n",
       "</table>\n",
       "</div>"
      ],
      "text/plain": [
       "                                 URL  OBJECTID             NAME  \\\n",
       "0  http://web.mta.info/nyct/service/         1         Astor Pl   \n",
       "1  http://web.mta.info/nyct/service/         2         Canal St   \n",
       "2  http://web.mta.info/nyct/service/         3            50 St   \n",
       "3  http://web.mta.info/nyct/service/         4        Bergen St   \n",
       "4  http://web.mta.info/nyct/service/         5  Pennsylvania Av   \n",
       "\n",
       "                                       the_geom               LINE  \\\n",
       "0  POINT (-73.99106999861966 40.73005400028978)  [4, 6, 6 Express]   \n",
       "1  POINT (-74.00019299927328 40.71880300107709)  [4, 6, 6 Express]   \n",
       "2  POINT (-73.98384899986625 40.76172799961419)             [1, 2]   \n",
       "3  POINT (-73.97499915116808 40.68086213682956)          [2, 3, 4]   \n",
       "4  POINT (-73.89488591154061 40.66471445143568)             [3, 4]   \n",
       "\n",
       "                                               NOTES  \n",
       "0  4 nights, 6-all times, 6 Express-weekdays AM s...  \n",
       "1  4 nights, 6-all times, 6 Express-weekdays AM s...  \n",
       "2                              1-all times, 2-nights  \n",
       "3           4-nights, 3-all other times, 2-all times  \n",
       "4                        4-nights, 3-all other times  "
      ]
     },
     "execution_count": 6,
     "metadata": {},
     "output_type": "execute_result"
    }
   ],
   "source": [
    "subway.LINE = list(map(split, subway.LINE))\n",
    "subway.head(5)"
   ]
  },
  {
   "cell_type": "code",
   "execution_count": 7,
   "metadata": {
    "collapsed": true
   },
   "outputs": [],
   "source": [
    "import itertools\n",
    "trains = list(itertools.chain.from_iterable(subway.LINE))"
   ]
  },
  {
   "cell_type": "code",
   "execution_count": 8,
   "metadata": {
    "collapsed": true
   },
   "outputs": [],
   "source": [
    "lines = list(set(trains))"
   ]
  },
  {
   "cell_type": "code",
   "execution_count": 9,
   "metadata": {
    "collapsed": true
   },
   "outputs": [],
   "source": [
    "num_s = len(subway)"
   ]
  },
  {
   "cell_type": "code",
   "execution_count": 10,
   "metadata": {
    "collapsed": true
   },
   "outputs": [],
   "source": [
    "st_matrix = pd.DataFrame(data = np.zeros([num_s,len(lines)]), columns = lines)\n",
    "a = subway.LINE[0]"
   ]
  },
  {
   "cell_type": "code",
   "execution_count": 11,
   "metadata": {},
   "outputs": [
    {
     "data": {
      "text/plain": [
       "0.0"
      ]
     },
     "execution_count": 11,
     "metadata": {},
     "output_type": "execute_result"
    }
   ],
   "source": [
    "st_matrix.iloc[0][(a == lines)]"
   ]
  },
  {
   "cell_type": "code",
   "execution_count": 12,
   "metadata": {
    "collapsed": true
   },
   "outputs": [],
   "source": [
    "def rp(a): \n",
    "    bl = []\n",
    "    for i, l in enumerate(lines):\n",
    "        if l in a:\n",
    "            bl.append(1)\n",
    "        else:\n",
    "            bl.append(0)\n",
    "    return bl\n",
    "m1 = list(map(rp, subway.LINE))\n",
    "subway[lines] = pd.DataFrame(m1)"
   ]
  },
  {
   "cell_type": "code",
   "execution_count": 13,
   "metadata": {},
   "outputs": [
    {
     "data": {
      "text/html": [
       "<div>\n",
       "<style>\n",
       "    .dataframe thead tr:only-child th {\n",
       "        text-align: right;\n",
       "    }\n",
       "\n",
       "    .dataframe thead th {\n",
       "        text-align: left;\n",
       "    }\n",
       "\n",
       "    .dataframe tbody tr th {\n",
       "        vertical-align: top;\n",
       "    }\n",
       "</style>\n",
       "<table border=\"1\" class=\"dataframe\">\n",
       "  <thead>\n",
       "    <tr style=\"text-align: right;\">\n",
       "      <th></th>\n",
       "      <th>URL</th>\n",
       "      <th>OBJECTID</th>\n",
       "      <th>NAME</th>\n",
       "      <th>the_geom</th>\n",
       "      <th>LINE</th>\n",
       "      <th>NOTES</th>\n",
       "      <th>Z</th>\n",
       "      <th>6 Express</th>\n",
       "      <th>G</th>\n",
       "      <th>M</th>\n",
       "      <th>...</th>\n",
       "      <th>4</th>\n",
       "      <th>B</th>\n",
       "      <th>Q</th>\n",
       "      <th>S</th>\n",
       "      <th>2</th>\n",
       "      <th>E</th>\n",
       "      <th>6</th>\n",
       "      <th>C</th>\n",
       "      <th>D</th>\n",
       "      <th>5</th>\n",
       "    </tr>\n",
       "  </thead>\n",
       "  <tbody>\n",
       "    <tr>\n",
       "      <th>0</th>\n",
       "      <td>http://web.mta.info/nyct/service/</td>\n",
       "      <td>1</td>\n",
       "      <td>Astor Pl</td>\n",
       "      <td>POINT (-73.99106999861966 40.73005400028978)</td>\n",
       "      <td>[4, 6, 6 Express]</td>\n",
       "      <td>4 nights, 6-all times, 6 Express-weekdays AM s...</td>\n",
       "      <td>0</td>\n",
       "      <td>1</td>\n",
       "      <td>0</td>\n",
       "      <td>0</td>\n",
       "      <td>...</td>\n",
       "      <td>1</td>\n",
       "      <td>0</td>\n",
       "      <td>0</td>\n",
       "      <td>0</td>\n",
       "      <td>0</td>\n",
       "      <td>0</td>\n",
       "      <td>1</td>\n",
       "      <td>0</td>\n",
       "      <td>0</td>\n",
       "      <td>0</td>\n",
       "    </tr>\n",
       "    <tr>\n",
       "      <th>1</th>\n",
       "      <td>http://web.mta.info/nyct/service/</td>\n",
       "      <td>2</td>\n",
       "      <td>Canal St</td>\n",
       "      <td>POINT (-74.00019299927328 40.71880300107709)</td>\n",
       "      <td>[4, 6, 6 Express]</td>\n",
       "      <td>4 nights, 6-all times, 6 Express-weekdays AM s...</td>\n",
       "      <td>0</td>\n",
       "      <td>1</td>\n",
       "      <td>0</td>\n",
       "      <td>0</td>\n",
       "      <td>...</td>\n",
       "      <td>1</td>\n",
       "      <td>0</td>\n",
       "      <td>0</td>\n",
       "      <td>0</td>\n",
       "      <td>0</td>\n",
       "      <td>0</td>\n",
       "      <td>1</td>\n",
       "      <td>0</td>\n",
       "      <td>0</td>\n",
       "      <td>0</td>\n",
       "    </tr>\n",
       "    <tr>\n",
       "      <th>2</th>\n",
       "      <td>http://web.mta.info/nyct/service/</td>\n",
       "      <td>3</td>\n",
       "      <td>50 St</td>\n",
       "      <td>POINT (-73.98384899986625 40.76172799961419)</td>\n",
       "      <td>[1, 2]</td>\n",
       "      <td>1-all times, 2-nights</td>\n",
       "      <td>0</td>\n",
       "      <td>0</td>\n",
       "      <td>0</td>\n",
       "      <td>0</td>\n",
       "      <td>...</td>\n",
       "      <td>0</td>\n",
       "      <td>0</td>\n",
       "      <td>0</td>\n",
       "      <td>0</td>\n",
       "      <td>1</td>\n",
       "      <td>0</td>\n",
       "      <td>0</td>\n",
       "      <td>0</td>\n",
       "      <td>0</td>\n",
       "      <td>0</td>\n",
       "    </tr>\n",
       "    <tr>\n",
       "      <th>3</th>\n",
       "      <td>http://web.mta.info/nyct/service/</td>\n",
       "      <td>4</td>\n",
       "      <td>Bergen St</td>\n",
       "      <td>POINT (-73.97499915116808 40.68086213682956)</td>\n",
       "      <td>[2, 3, 4]</td>\n",
       "      <td>4-nights, 3-all other times, 2-all times</td>\n",
       "      <td>0</td>\n",
       "      <td>0</td>\n",
       "      <td>0</td>\n",
       "      <td>0</td>\n",
       "      <td>...</td>\n",
       "      <td>1</td>\n",
       "      <td>0</td>\n",
       "      <td>0</td>\n",
       "      <td>0</td>\n",
       "      <td>1</td>\n",
       "      <td>0</td>\n",
       "      <td>0</td>\n",
       "      <td>0</td>\n",
       "      <td>0</td>\n",
       "      <td>0</td>\n",
       "    </tr>\n",
       "    <tr>\n",
       "      <th>4</th>\n",
       "      <td>http://web.mta.info/nyct/service/</td>\n",
       "      <td>5</td>\n",
       "      <td>Pennsylvania Av</td>\n",
       "      <td>POINT (-73.89488591154061 40.66471445143568)</td>\n",
       "      <td>[3, 4]</td>\n",
       "      <td>4-nights, 3-all other times</td>\n",
       "      <td>0</td>\n",
       "      <td>0</td>\n",
       "      <td>0</td>\n",
       "      <td>0</td>\n",
       "      <td>...</td>\n",
       "      <td>1</td>\n",
       "      <td>0</td>\n",
       "      <td>0</td>\n",
       "      <td>0</td>\n",
       "      <td>0</td>\n",
       "      <td>0</td>\n",
       "      <td>0</td>\n",
       "      <td>0</td>\n",
       "      <td>0</td>\n",
       "      <td>0</td>\n",
       "    </tr>\n",
       "  </tbody>\n",
       "</table>\n",
       "<p>5 rows × 31 columns</p>\n",
       "</div>"
      ],
      "text/plain": [
       "                                 URL  OBJECTID             NAME  \\\n",
       "0  http://web.mta.info/nyct/service/         1         Astor Pl   \n",
       "1  http://web.mta.info/nyct/service/         2         Canal St   \n",
       "2  http://web.mta.info/nyct/service/         3            50 St   \n",
       "3  http://web.mta.info/nyct/service/         4        Bergen St   \n",
       "4  http://web.mta.info/nyct/service/         5  Pennsylvania Av   \n",
       "\n",
       "                                       the_geom               LINE  \\\n",
       "0  POINT (-73.99106999861966 40.73005400028978)  [4, 6, 6 Express]   \n",
       "1  POINT (-74.00019299927328 40.71880300107709)  [4, 6, 6 Express]   \n",
       "2  POINT (-73.98384899986625 40.76172799961419)             [1, 2]   \n",
       "3  POINT (-73.97499915116808 40.68086213682956)          [2, 3, 4]   \n",
       "4  POINT (-73.89488591154061 40.66471445143568)             [3, 4]   \n",
       "\n",
       "                                               NOTES  Z  6 Express  G  M ...  \\\n",
       "0  4 nights, 6-all times, 6 Express-weekdays AM s...  0          1  0  0 ...   \n",
       "1  4 nights, 6-all times, 6 Express-weekdays AM s...  0          1  0  0 ...   \n",
       "2                              1-all times, 2-nights  0          0  0  0 ...   \n",
       "3           4-nights, 3-all other times, 2-all times  0          0  0  0 ...   \n",
       "4                        4-nights, 3-all other times  0          0  0  0 ...   \n",
       "\n",
       "   4  B  Q  S  2  E  6  C  D  5  \n",
       "0  1  0  0  0  0  0  1  0  0  0  \n",
       "1  1  0  0  0  0  0  1  0  0  0  \n",
       "2  0  0  0  0  1  0  0  0  0  0  \n",
       "3  1  0  0  0  1  0  0  0  0  0  \n",
       "4  1  0  0  0  0  0  0  0  0  0  \n",
       "\n",
       "[5 rows x 31 columns]"
      ]
     },
     "execution_count": 13,
     "metadata": {},
     "output_type": "execute_result"
    }
   ],
   "source": [
    "subway.head(5)"
   ]
  },
  {
   "cell_type": "code",
   "execution_count": 14,
   "metadata": {
    "collapsed": true
   },
   "outputs": [],
   "source": [
    "def lang(s):\n",
    "    s = s.split(' ')\n",
    "    lang = s[2].strip(')')\n",
    "    return float(lang)\n",
    "def long(s):\n",
    "    s = s.split(' ')\n",
    "    long = s[1].strip('(')\n",
    "    return float(long)"
   ]
  },
  {
   "cell_type": "code",
   "execution_count": 15,
   "metadata": {
    "collapsed": true
   },
   "outputs": [],
   "source": [
    "subway['lang'] = list(map(lang, subway['the_geom']))\n",
    "subway['long'] = list(map(long, subway['the_geom']))"
   ]
  },
  {
   "cell_type": "code",
   "execution_count": 16,
   "metadata": {
    "collapsed": true
   },
   "outputs": [],
   "source": [
    "subway.drop(['URL','OBJECTID', 'the_geom', 'NOTES'], axis = 1, inplace= True)"
   ]
  },
  {
   "cell_type": "code",
   "execution_count": 17,
   "metadata": {},
   "outputs": [
    {
     "data": {
      "text/html": [
       "<div>\n",
       "<style>\n",
       "    .dataframe thead tr:only-child th {\n",
       "        text-align: right;\n",
       "    }\n",
       "\n",
       "    .dataframe thead th {\n",
       "        text-align: left;\n",
       "    }\n",
       "\n",
       "    .dataframe tbody tr th {\n",
       "        vertical-align: top;\n",
       "    }\n",
       "</style>\n",
       "<table border=\"1\" class=\"dataframe\">\n",
       "  <thead>\n",
       "    <tr style=\"text-align: right;\">\n",
       "      <th></th>\n",
       "      <th>NAME</th>\n",
       "      <th>LINE</th>\n",
       "      <th>Z</th>\n",
       "      <th>6 Express</th>\n",
       "      <th>G</th>\n",
       "      <th>M</th>\n",
       "      <th>1</th>\n",
       "      <th>7 Express</th>\n",
       "      <th>F</th>\n",
       "      <th>3</th>\n",
       "      <th>...</th>\n",
       "      <th>Q</th>\n",
       "      <th>S</th>\n",
       "      <th>2</th>\n",
       "      <th>E</th>\n",
       "      <th>6</th>\n",
       "      <th>C</th>\n",
       "      <th>D</th>\n",
       "      <th>5</th>\n",
       "      <th>lang</th>\n",
       "      <th>long</th>\n",
       "    </tr>\n",
       "  </thead>\n",
       "  <tbody>\n",
       "    <tr>\n",
       "      <th>0</th>\n",
       "      <td>Astor Pl</td>\n",
       "      <td>[4, 6, 6 Express]</td>\n",
       "      <td>0</td>\n",
       "      <td>1</td>\n",
       "      <td>0</td>\n",
       "      <td>0</td>\n",
       "      <td>0</td>\n",
       "      <td>0</td>\n",
       "      <td>0</td>\n",
       "      <td>0</td>\n",
       "      <td>...</td>\n",
       "      <td>0</td>\n",
       "      <td>0</td>\n",
       "      <td>0</td>\n",
       "      <td>0</td>\n",
       "      <td>1</td>\n",
       "      <td>0</td>\n",
       "      <td>0</td>\n",
       "      <td>0</td>\n",
       "      <td>40.730054</td>\n",
       "      <td>-73.991070</td>\n",
       "    </tr>\n",
       "    <tr>\n",
       "      <th>1</th>\n",
       "      <td>Canal St</td>\n",
       "      <td>[4, 6, 6 Express]</td>\n",
       "      <td>0</td>\n",
       "      <td>1</td>\n",
       "      <td>0</td>\n",
       "      <td>0</td>\n",
       "      <td>0</td>\n",
       "      <td>0</td>\n",
       "      <td>0</td>\n",
       "      <td>0</td>\n",
       "      <td>...</td>\n",
       "      <td>0</td>\n",
       "      <td>0</td>\n",
       "      <td>0</td>\n",
       "      <td>0</td>\n",
       "      <td>1</td>\n",
       "      <td>0</td>\n",
       "      <td>0</td>\n",
       "      <td>0</td>\n",
       "      <td>40.718803</td>\n",
       "      <td>-74.000193</td>\n",
       "    </tr>\n",
       "    <tr>\n",
       "      <th>2</th>\n",
       "      <td>50 St</td>\n",
       "      <td>[1, 2]</td>\n",
       "      <td>0</td>\n",
       "      <td>0</td>\n",
       "      <td>0</td>\n",
       "      <td>0</td>\n",
       "      <td>1</td>\n",
       "      <td>0</td>\n",
       "      <td>0</td>\n",
       "      <td>0</td>\n",
       "      <td>...</td>\n",
       "      <td>0</td>\n",
       "      <td>0</td>\n",
       "      <td>1</td>\n",
       "      <td>0</td>\n",
       "      <td>0</td>\n",
       "      <td>0</td>\n",
       "      <td>0</td>\n",
       "      <td>0</td>\n",
       "      <td>40.761728</td>\n",
       "      <td>-73.983849</td>\n",
       "    </tr>\n",
       "    <tr>\n",
       "      <th>3</th>\n",
       "      <td>Bergen St</td>\n",
       "      <td>[2, 3, 4]</td>\n",
       "      <td>0</td>\n",
       "      <td>0</td>\n",
       "      <td>0</td>\n",
       "      <td>0</td>\n",
       "      <td>0</td>\n",
       "      <td>0</td>\n",
       "      <td>0</td>\n",
       "      <td>1</td>\n",
       "      <td>...</td>\n",
       "      <td>0</td>\n",
       "      <td>0</td>\n",
       "      <td>1</td>\n",
       "      <td>0</td>\n",
       "      <td>0</td>\n",
       "      <td>0</td>\n",
       "      <td>0</td>\n",
       "      <td>0</td>\n",
       "      <td>40.680862</td>\n",
       "      <td>-73.974999</td>\n",
       "    </tr>\n",
       "    <tr>\n",
       "      <th>4</th>\n",
       "      <td>Pennsylvania Av</td>\n",
       "      <td>[3, 4]</td>\n",
       "      <td>0</td>\n",
       "      <td>0</td>\n",
       "      <td>0</td>\n",
       "      <td>0</td>\n",
       "      <td>0</td>\n",
       "      <td>0</td>\n",
       "      <td>0</td>\n",
       "      <td>1</td>\n",
       "      <td>...</td>\n",
       "      <td>0</td>\n",
       "      <td>0</td>\n",
       "      <td>0</td>\n",
       "      <td>0</td>\n",
       "      <td>0</td>\n",
       "      <td>0</td>\n",
       "      <td>0</td>\n",
       "      <td>0</td>\n",
       "      <td>40.664714</td>\n",
       "      <td>-73.894886</td>\n",
       "    </tr>\n",
       "  </tbody>\n",
       "</table>\n",
       "<p>5 rows × 29 columns</p>\n",
       "</div>"
      ],
      "text/plain": [
       "              NAME               LINE  Z  6 Express  G  M  1  7 Express  F  3  \\\n",
       "0         Astor Pl  [4, 6, 6 Express]  0          1  0  0  0          0  0  0   \n",
       "1         Canal St  [4, 6, 6 Express]  0          1  0  0  0          0  0  0   \n",
       "2            50 St             [1, 2]  0          0  0  0  1          0  0  0   \n",
       "3        Bergen St          [2, 3, 4]  0          0  0  0  0          0  0  1   \n",
       "4  Pennsylvania Av             [3, 4]  0          0  0  0  0          0  0  1   \n",
       "\n",
       "     ...      Q  S  2  E  6  C  D  5       lang       long  \n",
       "0    ...      0  0  0  0  1  0  0  0  40.730054 -73.991070  \n",
       "1    ...      0  0  0  0  1  0  0  0  40.718803 -74.000193  \n",
       "2    ...      0  0  1  0  0  0  0  0  40.761728 -73.983849  \n",
       "3    ...      0  0  1  0  0  0  0  0  40.680862 -73.974999  \n",
       "4    ...      0  0  0  0  0  0  0  0  40.664714 -73.894886  \n",
       "\n",
       "[5 rows x 29 columns]"
      ]
     },
     "execution_count": 17,
     "metadata": {},
     "output_type": "execute_result"
    }
   ],
   "source": [
    "subway.head()"
   ]
  },
  {
   "cell_type": "code",
   "execution_count": 18,
   "metadata": {
    "collapsed": true
   },
   "outputs": [],
   "source": [
    "a = str('Line_') + lines[1].replace(' ', '_')\n",
    "exec(\"%s = %d\" % (a,2))"
   ]
  },
  {
   "cell_type": "code",
   "execution_count": 19,
   "metadata": {
    "collapsed": true
   },
   "outputs": [],
   "source": [
    "d = {}\n",
    "lines_name = []\n",
    "for line_name in lines:\n",
    "    col_name = subway.columns\n",
    "    var_name = str('Line_') + line_name.replace(' ', '_')\n",
    "    sub_df = subway[subway[line_name] == 1]\n",
    "    sub_df =  sub_df[['NAME','LINE','lang', 'long']]\n",
    "    \n",
    "    sub_df['bound1'] = np.zeros((len(sub_df),1))\n",
    "    sub_df['reason1'] = np.zeros((len(sub_df),1))\n",
    "    sub_df['bound2'] = np.zeros((len(sub_df),1))\n",
    "    sub_df['reason2'] = np.zeros((len(sub_df),1))\n",
    "    \n",
    "    d[var_name] = sub_df\n",
    "    lines_name.append(var_name)"
   ]
  },
  {
   "cell_type": "markdown",
   "metadata": {},
   "source": [
    "#### Re-arrange subway stations"
   ]
  },
  {
   "cell_type": "code",
   "execution_count": 56,
   "metadata": {
    "collapsed": true
   },
   "outputs": [],
   "source": [
    "import matplotlib.pyplot as plt\n",
    "%matplotlib inline"
   ]
  },
  {
   "cell_type": "code",
   "execution_count": 60,
   "metadata": {},
   "outputs": [],
   "source": [
    "import numpy as np\n",
    "from scipy.spatial.distance import cdist"
   ]
  },
  {
   "cell_type": "code",
   "execution_count": 92,
   "metadata": {},
   "outputs": [],
   "source": [
    "def find_orgin(ls):\n",
    "    pos = 0\n",
    "    ls_path = ls.copy()\n",
    "    for i in range(len(ls) - 1):\n",
    "        point = ls[pos].copy()\n",
    "        ls_path[pos] = np.array([0,0])\n",
    "        pos = np.argmin(cdist(ls[pos].reshape(1,-1), ls_path))\n",
    "    return pos"
   ]
  },
  {
   "cell_type": "code",
   "execution_count": 66,
   "metadata": {},
   "outputs": [],
   "source": [
    "def find_path(ls, start):\n",
    "    pos = start\n",
    "    path = [pos]\n",
    "\n",
    "    ls_path = ls.copy()\n",
    "    for i in range(len(ls) - 1):\n",
    "        point = ls[pos].copy()\n",
    "        ls_path[pos] = np.array([0,0])\n",
    "        pos = np.argmin(cdist(ls[pos].reshape(1,-1), ls_path))\n",
    "        path.append(pos)\n",
    "    return path"
   ]
  },
  {
   "cell_type": "code",
   "execution_count": 103,
   "metadata": {
    "collapsed": true
   },
   "outputs": [],
   "source": [
    "def rearrange(df):\n",
    "    ls = []\n",
    "    test = df.copy()\n",
    "    for i in range(len(test)):\n",
    "        a = [test.iloc[i]['long'], test.iloc[i]['lang']]\n",
    "        ls.append(a)\n",
    "    ls = np.array(ls)\n",
    "    \n",
    "    start = find_orgin(ls)\n",
    "    path = find_path(ls, start)\n",
    "    \n",
    "    return test.iloc[path]"
   ]
  },
  {
   "cell_type": "code",
   "execution_count": 104,
   "metadata": {},
   "outputs": [],
   "source": [
    "new_d = {}\n",
    "for l in lines_name:\n",
    "    vname = l\n",
    "    copy = d[l].copy()\n",
    "    df = rearrange(copy)\n",
    "    new_d[vname] = df"
   ]
  },
  {
   "cell_type": "code",
   "execution_count": 107,
   "metadata": {
    "collapsed": true
   },
   "outputs": [],
   "source": [
    "for l in lines_name:\n",
    "    filename = 'train_datasets/' + l + '.csv'\n",
    "    new_d[l].to_csv(filename, index = False)"
   ]
  },
  {
   "cell_type": "code",
   "execution_count": null,
   "metadata": {
    "collapsed": true
   },
   "outputs": [],
   "source": []
  }
 ],
 "metadata": {
  "kernelspec": {
   "display_name": "Python 3",
   "language": "python",
   "name": "python3"
  },
  "language_info": {
   "codemirror_mode": {
    "name": "ipython",
    "version": 3
   },
   "file_extension": ".py",
   "mimetype": "text/x-python",
   "name": "python",
   "nbconvert_exporter": "python",
   "pygments_lexer": "ipython3",
   "version": "3.6.1"
  }
 },
 "nbformat": 4,
 "nbformat_minor": 2
}
