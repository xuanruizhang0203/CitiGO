{
 "cells": [
  {
   "cell_type": "markdown",
   "metadata": {},
   "source": [
    "F_LINE D_LINE Manhattan-bound trains skip 25 St and Union St"
   ]
  },
  {
   "cell_type": "markdown",
   "metadata": {},
   "source": [
    "F_LINE Jamaica-bound trains skip 75 Av, Briarwood and Sutphin Blvd"
   ]
  },
  {
   "cell_type": "code",
   "execution_count": null,
   "metadata": {
    "collapsed": true
   },
   "outputs": [],
   "source": []
  }
 ],
 "metadata": {
  "kernelspec": {
   "display_name": "Python 3",
   "language": "python",
   "name": "python3"
  },
  "language_info": {
   "codemirror_mode": {
    "name": "ipython",
    "version": 3
   },
   "file_extension": ".py",
   "mimetype": "text/x-python",
   "name": "python",
   "nbconvert_exporter": "python",
   "pygments_lexer": "ipython3",
   "version": "3.6.1"
  }
 },
 "nbformat": 4,
 "nbformat_minor": 2
}
