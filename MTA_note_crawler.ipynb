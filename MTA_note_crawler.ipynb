{
 "cells": [
  {
   "cell_type": "code",
   "execution_count": 8,
   "metadata": {
    "collapsed": true
   },
   "outputs": [],
   "source": [
    "import pandas as pd\n",
    "import urllib.request\n",
    "import re\n",
    "import datetime\n",
    "import itertools"
   ]
  },
  {
   "cell_type": "code",
   "execution_count": 16,
   "metadata": {},
   "outputs": [
    {
     "data": {
      "text/plain": [
       "[['\" onclick=ShowHide(1);><b><i>TRACK REPLACEMENT</i><br clear=left><IMG src=\\\\\\'images/1.png\\\\\\' > Van Cortlandt Park-bound trains skip<font color=#000000> 50 St, 59 St and 66</font> St'],\n",
       " ['\" onclick=ShowHide(2);><b><i>ELECTRICAL IMPROVEMENTS</i><br clear=left><font color=#000000><IMG src=\\\\\\'images/1.png\\\\\\' > South Ferry-bound trains skip 86, 79, 66, 59 and 50 Sts'],\n",
       " ['\" onclick=ShowHide(3);><font color=#000000><b><i>TRACK MAINTENANCE</i>',\n",
       "  \"<IMG src=\\\\'images/2.png\\\\' > Flatbush Av-bound trains skip Bergen St, Grand Army Plaza and Eastern Pkwy\"],\n",
       " ['\" onclick=ShowHide(4);><b><i>ELECTRICAL IMPROVEMENTS</i><br clear=left><font color=#000000><IMG src=\\\\\\'images/2.png\\\\\\' > Flatbush Av-bound trains skip 86, 79, 66, 59 and 50 Sts'],\n",
       " ['\" onclick=ShowHide(5);><font color=#000000><b><i>TRACK MAINTENANCE</i><br clear=left><IMG src=\\\\\\'images/2.png\\\\\\' > Flatbush Av-bound trains run local from 34 St-Penn Station to Chambers St'],\n",
       " ['\" onclick=ShowHide(6);><font color=#000000><b><i>TRACK MAINTENANCE</i><br clear=left><IMG src=\\\\\\'images/2.png\\\\\\' > Wakefield-bound trains run local from Chambers St to 96 St'],\n",
       " ['\" onclick=ShowHide(7);><b><i>ELECTRICAL IMPROVEMENTS</i><br clear=left><IMG src=\\\\\\'images/3.png\\\\\\' > No trains running'],\n",
       " ['\" onclick=ShowHide(8);><b>No elevator service <i>to/from</i> the DOWNTOWN platform at Canal St <IMG src=\\\\\\'images/6.png\\\\\\' > Station'],\n",
       " ['\" onclick=ShowHide(9);><font color=#000000><b><i>TRACK MAINTENANCE</i>',\n",
       "  \"<IMG src=\\\\'images/4.png\\\\' > New Lots Av-bound trains skip Bergen St, Grand Army Plaza and Eastern Pkwy\"],\n",
       " ['\" onclick=ShowHide(10);><b><IMG src=\\\\\\'images/4.png\\\\\\' > Woodlawn-bound trains skip 138 St-Grand Concourse'],\n",
       " ['\" onclick=ShowHide(11);><b><i>ELECTRICAL IMPROVEMENTS</i><br clear=left><IMG src=\\\\\\'images/4.png\\\\\\' > Woodlawn-bound trains run express from 149 St-Grand Concourse to Woodlawn'],\n",
       " ['\" onclick=ShowHide(12);><font color=#000000><b><i>ELECTRICAL IMPROVEMENTS</i><br clear=left><IMG src=\\\\\\'images/4.png\\\\\\' > New Lots Av-bound trains skip Bergen St, Grand Army Plaza and Eastern Pkwy'],\n",
       " ['\" onclick=ShowHide(13);><b><i>TRACK MAINTENANCE</i><br clear=left><IMG src=\\\\\\'images/4.png\\\\\\' > Trains run local in both directions between 125 St and Brooklyn Bridge'],\n",
       " ['\" onclick=ShowHide(14);><font color=#000000><b><i>TRACK MAINTENANCE</i><br clear=left><IMG src=\\\\\\'images/4.png\\\\\\' > Service operates in two sections:'],\n",
       " ['\" onclick=ShowHide(15);><font color=#000000><b><i>ELECTRICAL IMPROVEMENTS</i><br clear=left><IMG src=\\\\\\'images/5.png\\\\\\' > Flatbush Av-bound trains skip Bergen St, Grand Army Plaza and Eastern Pkwy'],\n",
       " ['\" onclick=ShowHide(16);><font color=#000000><b><i>TRACK MAINTENANCE</i><br clear=left><IMG src=\\\\\\'images/6.png\\\\\\' > Brooklyn Bridge-bound trains skip Longwood Av, E 149 St, E 143 St, Cypress Av and Brook Av'],\n",
       " ['\" onclick=ShowHide(17);><font color=#000000><b><i>SIGNAL MAINTENANCE</i><br clear=left><IMG src=\\\\\\'images/7.png\\\\\\' > Hunters Point Av and Vernon Blvd-Jackson Av - Trains board at the Flushing-bound platform'],\n",
       " ['\" onclick=ShowHide(18);><font color=#000000><b>No elevator service <i>to/from</i> the Flushing-bound platform at 61 St-Woodside <IMG src=\\\\\\'images/7.png\\\\\\' > Station'],\n",
       " ['\" onclick=ShowHide(19);><font color=#000000><b><i>TRACK REPLACEMENT</i>',\n",
       "  \"<IMG src=\\\\'images/7.png\\\\' > Flushing-bound trains skip 82, 90, 103 and 111 Sts\"],\n",
       " ['\" onclick=ShowHide(20);><b><i>TRACK MAINTENANCE</i>',\n",
       "  \"<IMG src=\\\\'images/A.png\\\\' ></b> <b>Inwood-bound trains skip Spring St, 23 St and 50 St\"],\n",
       " ['\" onclick=ShowHide(21);><font color=#000000><b><i>TRACK MAINTENANCE</i><br clear=left><IMG src=\\\\\\'images/A.png\\\\\\' > Ozone Park/Far Rockaway-bound trains run express from 125 St to 59 St-Columbus Circle'],\n",
       " ['\" onclick=ShowHide(22);><b><i>SIGNAL MAINTENANCE</i><br clear=left><IMG src=\\\\\\'images/A.png\\\\\\' > Inwood-bound trains run express from Euclid Av to Hoyt Schermerhorn'],\n",
       " ['\" onclick=ShowHide(23);><font color=#000000><b><i>SIGNAL MAINTENANCE</i><br clear=left><IMG src=\\\\\\'images/A.png\\\\\\' > No trains between 168 St and 207 St'],\n",
       " [';\" onclick=ShowHide(1722210);>Show Shuttle Bus Stops</a></b></font>&nbsp;&nbsp;&nbsp;&nbsp;&nbsp;&nbsp;&nbsp;&nbsp;&nbsp;&nbsp;&nbsp;&nbsp;&nbsp;&nbsp;&nbsp;&nbsp;&nbsp;&nbsp;&nbsp;&nbsp;&nbsp;&nbsp;&nbsp;&nbsp;&nbsp;&nbsp; <a href=http://tripplanner.mta.info/ target=_blank><IMG src=\\\\\\'images/TripPlannerPlus_logo_19px.png\\\\\\' ></a><div id=\"1722210\"; style=\"display:none;\"><font color=#000000><table border=1 cellspacing=1 cellpadding=3 rules=rows frame=hsides><tr bgcolor=FAF8CC><td><b>Station</b><td><b>Broadway Shuttle Bus Stop</b><td><b>Fort Washington Av Shuttle Bus Stop</b><tr><td>168 St <IMG src=\\\\\\'images/1.png\\\\\\' > | <IMG src=\\\\\\'images/AS.png\\\\\\' > <a href=http://web.mta.info/accessibility/transit.htm target=_blank><IMG src=\\\\\\'images/ADA_WhlChr_small.gif\\\\\\'></a><td>St Nicholas Av at W 168 St<td>St Nicholas Av at W 168 St<tr><td rowspan=3>175 St<td>Broadway at W 175 St (to 207 St)<td rowspan=3>Fort Washington Av at W 177 St<tr><td>Broadway at W 176 St (to 168 St)<tr><td>Broadway at W 178 St<tr><td rowspan=3>181 St<td>Broadway at W 181 St<td>Fort Washington Av at W 179 St<tr><td>Broadway at W 184 St (to 207 St)<td>Fort Washington Av at W 181 St<tr><td>Broadway at W 185 St (to 168 St)<td>Fort Washington Av at W 185 St<tr><td rowspan=2>190 St<td>Broadway at W 193 St (to 207 St)<td>Fort Washington Av at W 190 St<tr><td>Broadway at Bennett Av (to 168 St) <td>Fort Washington Av at Cabrini Blvd<tr><td>Dyckman St<td>Broadway at Dyckman St<td> &mdash;<tr><td>207 St<td>Broadway at W 207 St<td> &mdash;</table> </div><br /><br /></font><table border=1 cellspacing=1 cellpadding=5 rules=none frame=box><td>&nbsp;&nbsp;<a href=http://web.mta.info/accessibility/transit.htm target=_blank><IMG src=\\\\\\'images/ADA_WhlChr_small.gif\\\\\\'></a>&nbsp;&nbsp;<td><font size=1>This service change affects one or more ADA accessible stations. Please call 511 for help with planning<br />your trip. If you are deaf or hard of hearing, use your preferred relay service provider or the free 711 relay.&nbsp;&nbsp;</font></table><br /><b>______________________________<br /></div></b><br/><br /><a style=\"cursor:pointer; text-decoration:'],\n",
       " ['\" onclick=ShowHide(24);><b><i>TRACK REPLACEMENT</i>',\n",
       "  \"<IMG src=\\\\'images/B.png\\\\' > No trains between Kings Hwy and Brighton Beach<br clear=left><IMG src=\\\\'images/Q.png\\\\' > trains provide alternate service\"],\n",
       " ['\" onclick=ShowHide(25);><b><i>TRACK MAINTENANCE</i><br clear=left><IMG src=\\\\\\'images/D.png\\\\\\' > Norwood-bound trains skip 170 St, 174-175 Sts and 182-183 Sts'],\n",
       " ['\" onclick=ShowHide(26);><b><i>SIGNAL MAINTENANCE<br clear=left></i><IMG src=\\\\\\'images/D.png\\\\\\' > Coney Island-bound trains run via the <IMG src=\\\\\\'images/N.png\\\\\\' > from 36 St to Stillwell Av'],\n",
       " ['\" onclick=ShowHide(27);><b><IMG src=\\\\\\'images/D.png\\\\\\' > No trains between 59 St-Columbus Circle and Stillwell Av'],\n",
       " [';\" onclick=ShowHide(1706730);>Show Shuttle Bus Stops</a></b></font><div id=\"1706730\"; style=\"display:none;\"><table border=1 cellspacing=1 cellpadding=3 rules=rows frame=hsides><tr bgcolor=#FAF8CC><td><b>Station&nbsp;&nbsp;&nbsp;&nbsp;&nbsp;&nbsp;</b></td><td><b>Bus Stop</b><td><b>Bus</b><tr><td>W 4 St <a href=http://web.mta.info/accessibility/transit.htm target=_blank><IMG src=\\\\\\'images/ADA_WhlChr_small.gif\\\\\\'></a> <IMG src=\\\\\\'images/A.png\\\\\\' > <IMG src=\\\\\\'images/C.png\\\\\\' > <IMG src=\\\\\\'images/D.png\\\\\\' > <IMG src=\\\\\\'images/E.png\\\\\\' > <IMG src=\\\\\\'images/F.png\\\\\\' >&nbsp;&nbsp;&nbsp;&nbsp;&nbsp;&nbsp;<td>6 Av at W 3 St<td><b>M55</b><tr><td>B\\\\\\'way-Lafayette St <a href=http://web.mta.info/accessibility/transit.htm target=_blank><IMG src=\\\\\\'images/ADA_WhlChr_small.gif\\\\\\'></a> <IMG src=\\\\\\'images/D.png\\\\\\' > <IMG src=\\\\\\'images/F.png\\\\\\' >&nbsp;&nbsp;<td>Houston St at Broadway<td><b>M21</b><tr><td>Grand St<td>Grand St at Chrystie St&nbsp;&nbsp;<td align=center>&mdash;</table></div><br /><br /><table width=80%><tr><td><font size=3><b>Travel Alternatives</b></font><td align=right><a href=http://tripplanner.mta.info/ target=_blank><IMG src=\\\\\\'images/TripPlannerPlus_logo_19px.png\\\\\\' ></a></table><br />For <b>Brooklyn</b>, take the <IMG src=\\\\\\'images/N.png\\\\\\' > instead.<br />&nbsp;&nbsp;<font color=#000000>&bull; </font>Transfer between <IMG src=\\\\\\'images/D.png\\\\\\' > and <IMG src=\\\\\\'images/N.png\\\\\\' > trains via the passageway at Times Sq-42 St/Port Authority.<br /><br />For <b>7 Av</b>, take the <IMG src=\\\\\\'images/E.png\\\\\\' >. <br />&nbsp;&nbsp;<font color=#000000>&bull; </font>Transfer between <IMG src=\\\\\\'images/D.png\\\\\\' > and <IMG src=\\\\\\'images/E.png\\\\\\' > trains at 42 St/Port Authority.<font color=#000000> <br /><br /></font>For <b>47-50 Sts</b>, <b>42 St-Bryant Pk</b> and <b>34 St-Herald Sq</b> take the <IMG src=\\\\\\'images/F.png\\\\\\' >. <br />&nbsp;&nbsp;<font color=#000000>&bull; </font>Transfer between <IMG src=\\\\\\'images/D.png\\\\\\' > and <IMG src=\\\\\\'images/F.png\\\\\\' > trains at W 4 St.<br />&nbsp;&nbsp;<font color=#000000>&bull; Transfer between <IMG src=\\\\\\'images/N.png\\\\\\' > and <IMG src=\\\\\\'images/F.png\\\\\\' > trains at 34 St-Herald Sq.<br /><br /></font>For <b>Grand St</b>, take a <IMG src=\\\\\\'images/shuttle_bus.png\\\\\\' alt=Shuttle Bus > bus.<br />&nbsp;&nbsp;<font color=#000000>&bull; </font>Transfer between <IMG src=\\\\\\'images/D.png\\\\\\' > <IMG src=\\\\\\'images/F.png\\\\\\' > trains and <IMG src=\\\\\\'images/shuttle_bus.png\\\\\\' alt=Shuttle Bus > buses at W 4 St <i>and/or</i> B\\\\\\'way-Lafayette St.<br /><br /><font color=#000000><i>*This detour has taken into account additional planned service changes.<br /><br /></i></font><table border=1 cellspacing=1 cellpadding=5 rules=none frame=box><td>&nbsp;&nbsp;<a href=http://web.mta.info/accessibility/transit.htm target=_blank><IMG src=\\\\\\'images/ADA_WhlChr_small.gif\\\\\\'></a>&nbsp;&nbsp;<td><font size=1>This service change affects one or more ADA accessible stations. Please call 511 for help with planning<br />your trip. If you are deaf or hard of hearing, use your preferred relay service provider or the free 711 relay.&nbsp;&nbsp;</font></table><br /><font color=#000000><b>______________________________<br /></div></b><br/><br /><a style=\"cursor:pointer; text-decoration:'],\n",
       " ['\" onclick=ShowHide(28);><font color=#000000><b><i>TRACK MAINTENANCE</i>',\n",
       "  \"<IMG src=\\\\'images/D.png\\\\' > Norwood-bound trains make local stops at 72, 81, 86, 96, 103, 110 and 116 Sts\"],\n",
       " ['\" onclick=ShowHide(29);><font color=#000000><b><i>TRACK MAINTENANCE</i>',\n",
       "  \"<IMG src=\\\\'images/E.png\\\\' ></font> No trains between <font color=#000000>W 4</font> St and World Trade Center<br clear=left><IMG src=\\\\'images/A.png\\\\' > trains provide alternate service\"],\n",
       " ['\" onclick=ShowHide(30);><b><IMG src=\\\\\\'images/F.png\\\\\\' > Manhattan-bound platforms at Avenue U, Avenue P, Avenue N, Bay Pkwy<br clear=left><font color=#FFFFFF>&nbsp;&nbsp;&nbsp;&nbsp; </font> and Avenue I are closed for renovation'],\n",
       " ['\" onclick=ShowHide(31);><b><i>TRACK MAINTENANCE<br clear=left></i><IMG src=\\\\\\'images/F.png\\\\\\' > <IMG src=\\\\\\'images/G.png\\\\\\' > Queens-bound trains skip Fort Hamilton Pkwy</b>, <b>15 St-Prospect Park</b> <b>and</b> <b>4 Av-9 St'],\n",
       " ['\" onclick=ShowHide(32);><b><i>TRACK MAINTENANCE</i>',\n",
       "  \"<IMG src=\\\\'images/F.png\\\\' > <IMG src=\\\\'images/G.png\\\\' > Queens-bound trains skip Fort Hamilton Pkwy</b>, <b>15 St-Prospect Park</b> <b>and</b> <b>4 Av-9 St\"],\n",
       " ['\" onclick=ShowHide(33);><b><IMG src=\\\\\\'images/J.png\\\\\\' > <IMG src=\\\\\\'images/Z.png\\\\\\' > Manhattan-bound platform at 104 St is closed for renovation'],\n",
       " ['\" onclick=ShowHide(34);><b><IMG src=\\\\\\'images/J.png\\\\\\' > <IMG src=\\\\\\'images/Z.png\\\\\\' > Manhattan-bound platform at 121 St is closed for renovation'],\n",
       " ['\" onclick=ShowHide(35);><b><i>TRACK MAINTENANCE<br clear=left></i><IMG src=\\\\\\'images/J.png\\\\\\' > No trains between Hewes St and Broad St<br clear=left><IMG src=\\\\\\'images/M.png\\\\\\' > No trains between Broadway Junction and Essex St'],\n",
       " ['\" onclick=ShowHide(36);><b><i>SIGNAL MAINTENANCE</i>',\n",
       "  \"<IMG src=\\\\'images/L.png\\\\' > Service operates every 12 minutes between Myrtle-Wyckoff Avs and Rockaway Pkwy\"],\n",
       " ['\" onclick=ShowHide(37);><b><i>VIADUCT RECONSTRUCTION</i><br clear=left><IMG src=\\\\\\'images/M.png\\\\\\' > No trains between Myrtle-Wyckoff Av and Myrtle Av (Broadway)'],\n",
       " ['\" onclick=ShowHide(38);><b><IMG src=\\\\\\'images/N.png\\\\\\' > Coney Island-bound platforms at Fort Hamilton Pkwy, New Utrecht Av, 18 Av, 20 Av,<br clear=left><font color=#FFFFFF>&nbsp;&nbsp;&nbsp;&nbsp; </font>Kings Hwy, Avenue U and 86 St are closed for renovation'],\n",
       " ['\" onclick=ShowHide(39);><b><IMG src=\\\\\\'images/N.png\\\\\\' > <IMG src=\\\\\\'images/W.png\\\\\\' > 30 Av and 36 Av are closed for renovation'],\n",
       " ['\" onclick=ShowHide(40);><b><i>STATION ENHANCEMENTS</i><br clear=left><font color=#000000><IMG src=\\\\\\'images/N.png\\\\\\' > Astoria-bound trains skip 39 Av and Broadway'],\n",
       " ['\" onclick=ShowHide(41);><font color=#000000><b>TRACK MAINTENANCE<br clear=left><IMG src=\\\\\\'images/N.png\\\\\\' > Astoria-bound trains skip 39 Av and Broadway'],\n",
       " ['\" onclick=ShowHide(42);><b><IMG src=\\\\\\'images/N.png\\\\\\' > Trains run via the <IMG src=\\\\\\'images/D.png\\\\\\' > in both directions between 36 St and Stillwell Av'],\n",
       " [';\" onclick=ShowHide(1706860);>Show Shuttle Bus Stops</a></b></font><div id=\"1706860\"; style=\"display:none;\"><table border=1 width=70% cellspacing=1 cellpadding=3 rules=rows frame=hsides><br /><tr bgcolor=FAF8CC><td><b>Station</b><td><b>Shuttle Bus Stop</b><td><b>Bus<br /></b><tr><td>59 St <IMG src=\\\\\\'images/R.png\\\\\\' ><td>4 Av at 59 St<td>&mdash;<tr><td>8 Av<td>60 St at 8 Av<td><b>B9<br /></b><tr><td>Fort Hamilton Pkwy<td>60 St at Fort Hamilton Pkwy<td><b>B9<br /></b><tr><td>62 St/New Utrecht Av <IMG src=\\\\\\'images/N.png\\\\\\' >&nbsp;&nbsp;&nbsp;&nbsp;<td>New Utrecht Av at 62 St<td>&mdash;<br /><tr><td>18 Av<td>65 St at 18 Av<td>&mdash;<tr><td>20 Av<td>65 St at 20 Av<td>&mdash;<br /><tr><td rowspan=2>Bay Pkwy&nbsp;&nbsp;<a href=http://web.mta.info/accessibility/transit.htm target=_blank><IMG src=\\\\\\'images/ADA_WhlChr_small.gif\\\\\\'></a> <td>Bay Pkwy at W 7 St (to 36 St)<td><b>B82<br /></b><tr><td>Bay Pkwy at 65 St (to Stillwell Av)<td><b>B6<br /></b><tr><td>Kings Hwy<td>Kings Hwy at W 7 St<td><b>B82<br /></b><tr><td>Avenue U<td>W 6 St at Avenue U<td>&mdash;<br /><tr><td rowspan=2>86 St<td>W 6 St at 86 St (to 36 St)<td>&mdash;<br /><tr><td>W 6 St at Avenue W (to Stillwell Av)<td>&mdash;<br /><tr><td>Stillwell Av <a href=http://web.mta.info/accessibility/transit.htm target=_blank><IMG src=\\\\\\'images/ADA_WhlChr_small.gif\\\\\\'></a> <IMG src=\\\\\\'images/F.png\\\\\\' > <IMG src=\\\\\\'images/N.png\\\\\\' > <td>Surf Av at Stillwell Av<td><b>B36</b></table></div></html>&nbsp;&nbsp;<br /><br /><b>Reminder:</b> Coney Island-bound platforms at Fort Hamilton Pkwy, New Utrecht Av, 18 Av, 20 Av, Kings Hwy,<br />Avenue U, and 86 St are closed for renovation. <br /><b>______________________________<br /></div></b><br/><br /><a style=\"cursor:pointer; text-decoration:'],\n",
       " ['\" onclick=ShowHide(43);><b><i>FASTRACK</i><br clear=left><IMG src=\\\\\\'images/N.png\\\\\\' > No trains in Manhattan<br clear=left><IMG src=\\\\\\'images/Q.png\\\\\\' > Trains are rerouted in Manhattan<br clear=left><IMG src=\\\\\\'images/R.png\\\\\\' > Service ends early in Manhattan and Queens'],\n",
       " ['\" onclick=ShowHide(44);><b>No elevator service at 96 St <IMG src=\\\\\\'images/Q.png\\\\\\' > Station'],\n",
       " ['\" onclick=ShowHide(45);><b><i>ELECTRICAL IMPROVEMENTS</i><br clear=left><IMG src=\\\\\\'images/Q.png\\\\\\' > 96 St-bound trains run express from Sheepshead Bay to Prospect Park'],\n",
       " ['\" onclick=ShowHide(46);><b><i>FASTRACK</i>',\n",
       "  \"<IMG src=\\\\'images/Q.png\\\\' > Trains make local stops at 14 St and 23 St <IMG src=\\\\'images/F.png\\\\' > stations in both directions\"],\n",
       " ['\" onclick=ShowHide(47);><b><i>TRACK REPLACEMENT</i>',\n",
       "  \"<IMG src=\\\\'images/Q.png\\\\' > Trains run every 16 minutes between Brighton Beach and Stillwell Av\"],\n",
       " ['\" onclick=ShowHide(48);><b><i>FASTRACK</i>',\n",
       "  \"<IMG src=\\\\'images/R.png\\\\' > No service at Whitehall St, Court St, Jay St-MetroTech and DeKalb Av<font color=#FFFFFF><br clear=left>&nbsp;&nbsp;&nbsp;&nbsp; </font>Trains skip Union St, 4 Av-9 St, Prospect Av and 25 St in both directions\"],\n",
       " ['\" onclick=ShowHide(49);><b><IMG src=\\\\\\'images/sir.png\\\\\\' > Fallen leaves may slow service'],\n",
       " ['\" onclick=ShowHide(50);><b><i>SCHEDULED MAINTENANCE</i><br clear=left><IMG src=\\\\\\'images/sir.png\\\\\\' > Trains board at the Tottenville-bound platform from Arthur Kill to Prince\\\\\\'s Bay Stations'],\n",
       " ['\" onclick=ShowHide(51);><font color=#000000><b><i>TRACK MAINTENANCE</i><br clear=left><IMG src=\\\\\\'images/W.png\\\\\\' > No trains between 57 St-7 Av and Ditmars Blvd - Take the <IMG src=\\\\\\'images/N.png\\\\\\' > instead<br clear=left><IMG src=\\\\\\'images/W.png\\\\\\' > trains run every 20 minutes in Manhattan']]"
      ]
     },
     "execution_count": 16,
     "metadata": {},
     "output_type": "execute_result"
    }
   ],
   "source": [
    "url = 'http://travel.mtanyct.info/serviceadvisory/routeStatusResult.aspx?tag=ALL&date=11/17/2017&time=&method=getstatus4'\n",
    "data = get_data(url)\n",
    "data = extract(data)\n",
    "#data = drop_bi(data)\n",
    "def split_note(data):\n",
    "    return list(map(lambda x: x.split('<BR CLEAR=LEFT>'), data))[1:]\n",
    "data = split_note(data)\n",
    "# data = drop(data)\n",
    "# data = rep_ls(data)\n",
    "# data = drop_ff(data,\"F&F_Pos_16 (LINE)\")\n",
    "# data = drop_ff(data,\"&nbsp;\")\n",
    "# data = drop_ff(data,\"\\\\\")\n",
    "data"
   ]
  },
  {
   "cell_type": "code",
   "execution_count": 12,
   "metadata": {
    "collapsed": true
   },
   "outputs": [],
   "source": [
    "def get_data(ur1):\n",
    "    return str(urllib.request.urlopen(ur1).read())\n",
    "\n",
    "def extract(data):\n",
    "    result = data.split(\"underline\")\n",
    "    result = list(map(lambda x: x.split('</a><br/>')[0].split('<BR CLEAR=LEFT>') , result))[1:]\n",
    "    return result\n",
    "\n",
    "def drop_bi(data):\n",
    "    data = list(map(lambda x: re.sub('<b><i>(.*?)</i>', '<b>',x) , data))\n",
    "    return data\n",
    "\n",
    "def drop(data):\n",
    "    data = list(map(lambda x: x.split('<b>')[1] , data))\n",
    "    return data\n",
    "\n",
    "def rep(s):\n",
    "    a= s.replace(\"<IMG src=\\\\'images/\",' ').replace('6d', '6').replace(\".png\\\\' >\",'_LINE')\n",
    "    \n",
    "    return re.sub('<[^>]+>', '', a)\n",
    "\n",
    "def rep_ls(ls):\n",
    "    return list(map(rep, ls))\n",
    "\n",
    "def drop_ff(ls, string):\n",
    "    return list(map(lambda x: x.replace(string, ''), ls))\n",
    "\n",
    "def clean(url):\n",
    "    data = get_data(url)\n",
    "    data = extract(data)\n",
    "    data = drop_bi(data)\n",
    "    data = drop(data)\n",
    "    data = rep_ls(data)\n",
    "    data = drop_ff(data,\"F&F_Pos_16 (LINE)\")\n",
    "    data = drop_ff(data,\"&nbsp;\")\n",
    "    data = drop_ff(data,\"\\\\\")\n",
    "    return data"
   ]
  },
  {
   "cell_type": "code",
   "execution_count": 13,
   "metadata": {
    "collapsed": true
   },
   "outputs": [],
   "source": [
    "def get_clean_data(data):\n",
    "    url = 'http://travel.mtanyct.info/serviceadvisory/routeStatusResult.aspx?tag=ALL&date='+data+'&time=&method=getstatus4'\n",
    "    return clean(url)"
   ]
  },
  {
   "cell_type": "code",
   "execution_count": 14,
   "metadata": {},
   "outputs": [
    {
     "ename": "TypeError",
     "evalue": "expected string or bytes-like object",
     "output_type": "error",
     "traceback": [
      "\u001b[0;31m---------------------------------------------------------------------------\u001b[0m",
      "\u001b[0;31mTypeError\u001b[0m                                 Traceback (most recent call last)",
      "\u001b[0;32m<ipython-input-14-abc44186cbab>\u001b[0m in \u001b[0;36m<module>\u001b[0;34m()\u001b[0m\n\u001b[0;32m----> 1\u001b[0;31m \u001b[0mget_clean_data\u001b[0m\u001b[0;34m(\u001b[0m\u001b[0;34m'11/17/2017'\u001b[0m\u001b[0;34m)\u001b[0m\u001b[0;34m\u001b[0m\u001b[0m\n\u001b[0m",
      "\u001b[0;32m<ipython-input-13-781500342468>\u001b[0m in \u001b[0;36mget_clean_data\u001b[0;34m(data)\u001b[0m\n\u001b[1;32m      1\u001b[0m \u001b[0;32mdef\u001b[0m \u001b[0mget_clean_data\u001b[0m\u001b[0;34m(\u001b[0m\u001b[0mdata\u001b[0m\u001b[0;34m)\u001b[0m\u001b[0;34m:\u001b[0m\u001b[0;34m\u001b[0m\u001b[0m\n\u001b[1;32m      2\u001b[0m     \u001b[0murl\u001b[0m \u001b[0;34m=\u001b[0m \u001b[0;34m'http://travel.mtanyct.info/serviceadvisory/routeStatusResult.aspx?tag=ALL&date='\u001b[0m\u001b[0;34m+\u001b[0m\u001b[0mdata\u001b[0m\u001b[0;34m+\u001b[0m\u001b[0;34m'&time=&method=getstatus4'\u001b[0m\u001b[0;34m\u001b[0m\u001b[0m\n\u001b[0;32m----> 3\u001b[0;31m     \u001b[0;32mreturn\u001b[0m \u001b[0mclean\u001b[0m\u001b[0;34m(\u001b[0m\u001b[0murl\u001b[0m\u001b[0;34m)\u001b[0m\u001b[0;34m\u001b[0m\u001b[0m\n\u001b[0m",
      "\u001b[0;32m<ipython-input-12-072eb56dac63>\u001b[0m in \u001b[0;36mclean\u001b[0;34m(url)\u001b[0m\n\u001b[1;32m     29\u001b[0m     \u001b[0mdata\u001b[0m \u001b[0;34m=\u001b[0m \u001b[0mget_data\u001b[0m\u001b[0;34m(\u001b[0m\u001b[0murl\u001b[0m\u001b[0;34m)\u001b[0m\u001b[0;34m\u001b[0m\u001b[0m\n\u001b[1;32m     30\u001b[0m     \u001b[0mdata\u001b[0m \u001b[0;34m=\u001b[0m \u001b[0mextract\u001b[0m\u001b[0;34m(\u001b[0m\u001b[0mdata\u001b[0m\u001b[0;34m)\u001b[0m\u001b[0;34m\u001b[0m\u001b[0m\n\u001b[0;32m---> 31\u001b[0;31m     \u001b[0mdata\u001b[0m \u001b[0;34m=\u001b[0m \u001b[0mdrop_bi\u001b[0m\u001b[0;34m(\u001b[0m\u001b[0mdata\u001b[0m\u001b[0;34m)\u001b[0m\u001b[0;34m\u001b[0m\u001b[0m\n\u001b[0m\u001b[1;32m     32\u001b[0m     \u001b[0mdata\u001b[0m \u001b[0;34m=\u001b[0m \u001b[0mdrop\u001b[0m\u001b[0;34m(\u001b[0m\u001b[0mdata\u001b[0m\u001b[0;34m)\u001b[0m\u001b[0;34m\u001b[0m\u001b[0m\n\u001b[1;32m     33\u001b[0m     \u001b[0mdata\u001b[0m \u001b[0;34m=\u001b[0m \u001b[0mrep_ls\u001b[0m\u001b[0;34m(\u001b[0m\u001b[0mdata\u001b[0m\u001b[0;34m)\u001b[0m\u001b[0;34m\u001b[0m\u001b[0m\n",
      "\u001b[0;32m<ipython-input-12-072eb56dac63>\u001b[0m in \u001b[0;36mdrop_bi\u001b[0;34m(data)\u001b[0m\n\u001b[1;32m      8\u001b[0m \u001b[0;34m\u001b[0m\u001b[0m\n\u001b[1;32m      9\u001b[0m \u001b[0;32mdef\u001b[0m \u001b[0mdrop_bi\u001b[0m\u001b[0;34m(\u001b[0m\u001b[0mdata\u001b[0m\u001b[0;34m)\u001b[0m\u001b[0;34m:\u001b[0m\u001b[0;34m\u001b[0m\u001b[0m\n\u001b[0;32m---> 10\u001b[0;31m     \u001b[0mdata\u001b[0m \u001b[0;34m=\u001b[0m \u001b[0mlist\u001b[0m\u001b[0;34m(\u001b[0m\u001b[0mmap\u001b[0m\u001b[0;34m(\u001b[0m\u001b[0;32mlambda\u001b[0m \u001b[0mx\u001b[0m\u001b[0;34m:\u001b[0m \u001b[0mre\u001b[0m\u001b[0;34m.\u001b[0m\u001b[0msub\u001b[0m\u001b[0;34m(\u001b[0m\u001b[0;34m'<b><i>(.*?)</i>'\u001b[0m\u001b[0;34m,\u001b[0m \u001b[0;34m'<b>'\u001b[0m\u001b[0;34m,\u001b[0m\u001b[0mx\u001b[0m\u001b[0;34m)\u001b[0m \u001b[0;34m,\u001b[0m \u001b[0mdata\u001b[0m\u001b[0;34m)\u001b[0m\u001b[0;34m)\u001b[0m\u001b[0;34m\u001b[0m\u001b[0m\n\u001b[0m\u001b[1;32m     11\u001b[0m     \u001b[0;32mreturn\u001b[0m \u001b[0mdata\u001b[0m\u001b[0;34m\u001b[0m\u001b[0m\n\u001b[1;32m     12\u001b[0m \u001b[0;34m\u001b[0m\u001b[0m\n",
      "\u001b[0;32m<ipython-input-12-072eb56dac63>\u001b[0m in \u001b[0;36m<lambda>\u001b[0;34m(x)\u001b[0m\n\u001b[1;32m      8\u001b[0m \u001b[0;34m\u001b[0m\u001b[0m\n\u001b[1;32m      9\u001b[0m \u001b[0;32mdef\u001b[0m \u001b[0mdrop_bi\u001b[0m\u001b[0;34m(\u001b[0m\u001b[0mdata\u001b[0m\u001b[0;34m)\u001b[0m\u001b[0;34m:\u001b[0m\u001b[0;34m\u001b[0m\u001b[0m\n\u001b[0;32m---> 10\u001b[0;31m     \u001b[0mdata\u001b[0m \u001b[0;34m=\u001b[0m \u001b[0mlist\u001b[0m\u001b[0;34m(\u001b[0m\u001b[0mmap\u001b[0m\u001b[0;34m(\u001b[0m\u001b[0;32mlambda\u001b[0m \u001b[0mx\u001b[0m\u001b[0;34m:\u001b[0m \u001b[0mre\u001b[0m\u001b[0;34m.\u001b[0m\u001b[0msub\u001b[0m\u001b[0;34m(\u001b[0m\u001b[0;34m'<b><i>(.*?)</i>'\u001b[0m\u001b[0;34m,\u001b[0m \u001b[0;34m'<b>'\u001b[0m\u001b[0;34m,\u001b[0m\u001b[0mx\u001b[0m\u001b[0;34m)\u001b[0m \u001b[0;34m,\u001b[0m \u001b[0mdata\u001b[0m\u001b[0;34m)\u001b[0m\u001b[0;34m)\u001b[0m\u001b[0;34m\u001b[0m\u001b[0m\n\u001b[0m\u001b[1;32m     11\u001b[0m     \u001b[0;32mreturn\u001b[0m \u001b[0mdata\u001b[0m\u001b[0;34m\u001b[0m\u001b[0m\n\u001b[1;32m     12\u001b[0m \u001b[0;34m\u001b[0m\u001b[0m\n",
      "\u001b[0;32m/Users/Harrison/anaconda/lib/python3.6/re.py\u001b[0m in \u001b[0;36msub\u001b[0;34m(pattern, repl, string, count, flags)\u001b[0m\n\u001b[1;32m    189\u001b[0m     \u001b[0ma\u001b[0m \u001b[0mcallable\u001b[0m\u001b[0;34m,\u001b[0m \u001b[0mit\u001b[0m\u001b[0;31m'\u001b[0m\u001b[0ms\u001b[0m \u001b[0mpassed\u001b[0m \u001b[0mthe\u001b[0m \u001b[0mmatch\u001b[0m \u001b[0mobject\u001b[0m \u001b[0;32mand\u001b[0m \u001b[0mmust\u001b[0m \u001b[0;32mreturn\u001b[0m\u001b[0;34m\u001b[0m\u001b[0m\n\u001b[1;32m    190\u001b[0m     a replacement string to be used.\"\"\"\n\u001b[0;32m--> 191\u001b[0;31m     \u001b[0;32mreturn\u001b[0m \u001b[0m_compile\u001b[0m\u001b[0;34m(\u001b[0m\u001b[0mpattern\u001b[0m\u001b[0;34m,\u001b[0m \u001b[0mflags\u001b[0m\u001b[0;34m)\u001b[0m\u001b[0;34m.\u001b[0m\u001b[0msub\u001b[0m\u001b[0;34m(\u001b[0m\u001b[0mrepl\u001b[0m\u001b[0;34m,\u001b[0m \u001b[0mstring\u001b[0m\u001b[0;34m,\u001b[0m \u001b[0mcount\u001b[0m\u001b[0;34m)\u001b[0m\u001b[0;34m\u001b[0m\u001b[0m\n\u001b[0m\u001b[1;32m    192\u001b[0m \u001b[0;34m\u001b[0m\u001b[0m\n\u001b[1;32m    193\u001b[0m \u001b[0;32mdef\u001b[0m \u001b[0msubn\u001b[0m\u001b[0;34m(\u001b[0m\u001b[0mpattern\u001b[0m\u001b[0;34m,\u001b[0m \u001b[0mrepl\u001b[0m\u001b[0;34m,\u001b[0m \u001b[0mstring\u001b[0m\u001b[0;34m,\u001b[0m \u001b[0mcount\u001b[0m\u001b[0;34m=\u001b[0m\u001b[0;36m0\u001b[0m\u001b[0;34m,\u001b[0m \u001b[0mflags\u001b[0m\u001b[0;34m=\u001b[0m\u001b[0;36m0\u001b[0m\u001b[0;34m)\u001b[0m\u001b[0;34m:\u001b[0m\u001b[0;34m\u001b[0m\u001b[0m\n",
      "\u001b[0;31mTypeError\u001b[0m: expected string or bytes-like object"
     ]
    }
   ],
   "source": [
    "get_clean_data('11/17/2017')"
   ]
  },
  {
   "cell_type": "code",
   "execution_count": 8,
   "metadata": {
    "collapsed": true
   },
   "outputs": [],
   "source": [
    "def get_data_over_period(start, num_of_days):\n",
    "    start_date = datetime.datetime.strptime(start, '%m/%d/20%y')\n",
    "    date_list = [start_date + datetime.timedelta(days=x) for x in range(0, num_of_days)]\n",
    "    dates = list(map(lambda x: x.strftime('%m/%d/20%y'), date_list))\n",
    "    dataset = []\n",
    "    dataset = list(map(get_clean_data, dates))\n",
    "    answer = set(list(list(itertools.chain.from_iterable(dataset))))\n",
    "    return answer"
   ]
  },
  {
   "cell_type": "code",
   "execution_count": 9,
   "metadata": {
    "collapsed": true
   },
   "outputs": [],
   "source": [
    "n = get_data_over_period('11/7/2017', 5)"
   ]
  },
  {
   "cell_type": "code",
   "execution_count": 7,
   "metadata": {
    "collapsed": true
   },
   "outputs": [],
   "source": [
    "# text_file = open(\"Output.txt\", \"w\")\n",
    "# for s in n:\n",
    "#     text_file.write(s+\"\\n\")\n",
    "# text_file.close()"
   ]
  },
  {
   "cell_type": "code",
   "execution_count": 10,
   "metadata": {},
   "outputs": [
    {
     "data": {
      "text/plain": [
       "{' 1_LINE Van Cortlandt Park-bound trains skip 50 St, 59 St and 66 St',\n",
       " ' 1_LINE Van Cortlandt Park-bound trains skip Franklin, Canal, Houston, Christopher, 18, 23 and 28 Sts',\n",
       " ' 2_LINE Flatbush Av-bound trains run local from 96 St to Times Sq-42 St',\n",
       " ' 2_LINE Flatbush Av-bound trains skip Bergen St, Grand Army Plaza and Eastern Pkwy',\n",
       " ' 2_LINE Uptown trains skip 50 St, 59 St and 66 St',\n",
       " ' 2_LINE Wakefield-bound trains skip 79 St and 86 St 1_LINE trains provide alternate service',\n",
       " ' 2_LINE Wakefield-bound trains skip Franklin, Canal, Houston, Christopher, 18, 23 and 28 Sts',\n",
       " ' 2_LINE trains replace weekend  5_LINE service between Dyre Av and E 180 St',\n",
       " ' 3_LINE New Lots Av-bound trains run local from 96 St to Times Sq-42 St',\n",
       " ' 3_LINE New Lots Av-bound trains skip Bergen St, Grand Army Plaza and Eastern Pkwy',\n",
       " ' 3_LINE No trains running',\n",
       " ' 4_LINE New Lots Av-bound trains skip Bergen St, Grand Army Plaza and Eastern Pkwy',\n",
       " ' 4_LINE Service operates every 16 minutes between 125 St and Woodlawn',\n",
       " ' 4_LINE Trains run local in both directions between 125 St and Brooklyn Bridge',\n",
       " ' 4_LINE Trains run local in both directions between 125 St and Grand Central-42 St',\n",
       " ' 4_LINE Woodlawn-bound trains run local from Grand Central-42 St to 125 St',\n",
       " ' 4_LINE Woodlawn-bound trains skip 161 St, 167 St, 170 St, Mt Eden Av and 176 St',\n",
       " ' 5_LINE Service ends early between E 180 St and Bowling Green 2_LINE  4_LINE trains provide alternate service',\n",
       " ' 5_LINE Trains run local in both directions between 125 St and Grand Central-42 St',\n",
       " ' 6_LINE ',\n",
       " ' 6_LINE Brooklyn Bridge-bound trains run local from Parkchester to 3 Av-138 St',\n",
       " ' 6_LINE Pelham Bay Park-bound trains run local from 3 Av-138 St to Parkchester',\n",
       " ' 6_LINE Service operates in two sections:',\n",
       " ' 6_LINE The last stop for alternate trains headed toward Pelham Bay Park is 3 Av-138 St',\n",
       " ' 7_LINE Flushing-bound trains skip 33, 40, 46, 52 and 69 Sts',\n",
       " ' 7_LINE Flushing-bound trains skip 82, 90, 103 and 111 Sts',\n",
       " ' 7_LINE Hunters Point Av and Vernon Blvd-Jackson Av - Trains board at the Flushing-bound platform',\n",
       " ' 7_LINE No trains between Main St and Willets Point',\n",
       " ' 7_LINE No trains between Queensboro Plaza and 34 St-Hudson Yards',\n",
       " ' 7_LINE Vernon Blvd-Jackson Av and Hunters Point Av - Trains board at the Manhattan-bound platform',\n",
       " ' A_LINE Inwood-bound trains run local from 59 St-Columbus Circle to 125 St',\n",
       " ' A_LINE Inwood-bound trains skip Spring St, 23 St and 50 St',\n",
       " ' A_LINE Ozone Park/Far Rockaway-bound trains skip 163, 155, 135, 116, 110, 103, 96, 86, 81 and 72 Sts',\n",
       " ' A_LINE Trains make local stops in both directions at Spring St, 23 St and 50 St',\n",
       " ' B_LINE No trains between Kings Hwy and Brighton Beach Q_LINE trains provide alternate service',\n",
       " ' C_LINE 168 St-bound trains skip Spring St, 23 St and 50 St',\n",
       " ' C_LINE Euclid Av-bound trains skip 163, 155, 135, 116, 110, 103, 96, 86, 81 and 72 Sts',\n",
       " ' D_LINE  N_LINE  R_LINE Service restored at Prospect Av',\n",
       " ' D_LINE Coney Island-bound trains skip Union St, 4 Av-9 St, Prospect Av and 25 St',\n",
       " ' D_LINE Norwood-bound trains make local stops at 25 St, Prospect Av, 4 Av-9 St, Union St and DeKalb Av',\n",
       " ' D_LINE Norwood-bound trains make local stops at 72, 81, 86, 96, 103, 110 and 116 Sts',\n",
       " ' D_LINE Norwood-bound trains skip 170 St, 174-175 Sts and 182-183 Sts',\n",
       " ' D_LINE Norwood-bound trains skip 20 Av, 18 Av, 79, 71, 55, 50 Sts and Fort Hamilton Pkwy',\n",
       " ' E_LINE Jamaica Center-bound trains skip Spring St and 23 St',\n",
       " ' E_LINE No trains between W 4 St and World Trade Center A_LINE trains provide alternate service',\n",
       " ' F_LINE  G_LINE Queens-bound trains skip Fort Hamilton Pkwy, ',\n",
       " ' F_LINE Jamaica-bound trains skip 14 St and 23 St',\n",
       " ' F_LINE Manhattan-bound platforms at Avenue U, Avenue P, Avenue N, Bay Pkwy  and Avenue I are closed for renovation',\n",
       " ' J_LINE  Z_LINE Manhattan-bound platform at 104 St is closed for renovation',\n",
       " ' J_LINE  Z_LINE Manhattan-bound platform at 121 St is closed for renovation',\n",
       " ' J_LINE No trains between Hewes St and Broad St M_LINE No trains between Broadway Junction and Essex St',\n",
       " ' L_LINE Service operates every 12 minutes between Myrtle-Wyckoff Avs and Rockaway Pkwy',\n",
       " ' M_LINE No trains between Myrtle-Wyckoff Av and Myrtle Av (Broadway)',\n",
       " ' M_LINE Shuttle trains run every 20 minutes between Metropolitan Av and Myrtle-Wyckoff Avs',\n",
       " ' N_LINE  W_LINE 30 Av and 36 Av are closed for renovation',\n",
       " ' N_LINE Astoria-bound trains run local from 59 St, Brooklyn to DeKalb Av ',\n",
       " ' N_LINE Astoria-bound trains skip 39 Av and Broadway',\n",
       " ' N_LINE Coney Island-bound platforms at Fort Hamilton Pkwy, New Utrecht Av, 18 Av, 20 Av, Kings Hwy, Avenue U and 86 St are closed for renovation',\n",
       " ' N_LINE No trains in Manhattan Q_LINE Trains are rerouted in Manhattan R_LINE Service ends early in Manhattan and Queens',\n",
       " ' Q_LINE Coney Island-bound trains run express from Prospect Park to Sheepshead Bay',\n",
       " ' Q_LINE No trains between Brighton Beach and Stillwell Av',\n",
       " ' Q_LINE Trains make local stops at 14 St and 23 St  F_LINE stations in both directions',\n",
       " ' Q_LINE Trains run every 16 minutes between Brighton Beach and Stillwell Av',\n",
       " ' R_LINE Bay Ridge-bound trains run express from Atlantic Av-Barclays Ctr to 59 St, Brooklyn',\n",
       " ' R_LINE No service at Whitehall St, Court St, Jay St-MetroTech and DeKalb Av Trains skip Union St, 4 Av-9 St, Prospect Av and 25 St in both directions',\n",
       " ' S_LINE 42 Street Shuttle service operates overnight',\n",
       " ' W_LINE Astoria-bound trains skip 39 Av and Broadway',\n",
       " ' W_LINE Service ends early',\n",
       " ' W_LINE Special service operates between Whitehall St and Ditmars Blvd',\n",
       " ' sir_LINE Fallen leaves may slow service',\n",
       " \" sir_LINE Trains board at the St. George-bound platform from Prince's Bay to Arthur Kill Stations\",\n",
       " 'N> Coney Island-bound trains run express from Atlantic Av-Barclays Ctr to 59 St, Brooklyn ',\n",
       " 'No elevator service at 96 St  Q_LINE Station',\n",
       " 'No elevator service to/from the DOWNTOWN platform at Canal St  6_LINE Station',\n",
       " 'No elevator service to/from the Flushing-bound platform at 61 St-Woodside  7_LINE Station',\n",
       " 'Station',\n",
       " 'Weekend  2_LINE  3_LINE station closures and route changes'}"
      ]
     },
     "execution_count": 10,
     "metadata": {},
     "output_type": "execute_result"
    }
   ],
   "source": [
    "n"
   ]
  },
  {
   "cell_type": "code",
   "execution_count": null,
   "metadata": {
    "collapsed": true
   },
   "outputs": [],
   "source": []
  }
 ],
 "metadata": {
  "kernelspec": {
   "display_name": "Python 3",
   "language": "python",
   "name": "python3"
  },
  "language_info": {
   "codemirror_mode": {
    "name": "ipython",
    "version": 3
   },
   "file_extension": ".py",
   "mimetype": "text/x-python",
   "name": "python",
   "nbconvert_exporter": "python",
   "pygments_lexer": "ipython3",
   "version": "3.6.1"
  }
 },
 "nbformat": 4,
 "nbformat_minor": 2
}
