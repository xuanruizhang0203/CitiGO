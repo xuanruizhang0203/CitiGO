{
 "cells": [
  {
   "cell_type": "code",
   "execution_count": 2,
   "metadata": {
    "collapsed": true
   },
   "outputs": [],
   "source": [
    "import pandas as pd\n",
    "import urllib.request\n",
    "import re\n",
    "import datetime\n",
    "import itertools\n"
   ]
  },
  {
   "cell_type": "code",
   "execution_count": 23,
   "metadata": {
    "collapsed": true
   },
   "outputs": [],
   "source": [
    "def get_data(ur1):\n",
    "    return str(urllib.request.urlopen(ur1).read())\n",
    "\n",
    "def extract(data):\n",
    "    result = data.split(\"underline\")\n",
    "    result = list(map(lambda x: x.split('</a><br/>')[0] , result))[1:]\n",
    "    return result\n",
    "\n",
    "def drop_bi(data):\n",
    "    data = list(map(lambda x: re.sub('<b><i>(.*?)</i>', '<b>',x) , data))\n",
    "    newdata = []\n",
    "    for i in data:\n",
    "        count = i.count('<br clear=left>')\n",
    "        if count >= 2: #and 'provide alternate service' not in i:\n",
    "            if 'provide alternate service' in i:\n",
    "                newdata.append(i)\n",
    "            else:\n",
    "                j = i.split('<br clear=left>')\n",
    "                for k in range(1, len(j)):\n",
    "                    m = j[0] + j[k]\n",
    "                    newdata.append(m)\n",
    "        else:\n",
    "            newdata.append(i)\n",
    "    return newdata\n",
    "\n",
    "def drop(data):\n",
    "    data = list(map(lambda x: x.split('<b>')[1] , data))\n",
    "    for i in data:\n",
    "        count = i.count('<br clear=left>')\n",
    "        if count > 1:\n",
    "            i.split('<br clear=left>')\n",
    "        \n",
    "    return data\n",
    "\n",
    "def rep(s):\n",
    "    a= s.replace(\"<IMG src=\\\\'images/\",' ').replace('6d', '6').replace(\".png\\\\' >\",'_LINE')\n",
    "    \n",
    "    return re.sub('<[^>]+>', '', a)\n",
    "\n",
    "def rep_ls(ls):\n",
    "    return list(map(rep, ls))\n",
    "\n",
    "def drop_ff(ls, string):\n",
    "    return list(map(lambda x: x.replace(string, ''), ls))\n",
    "\n",
    "def clean(url):\n",
    "    data = get_data(url)\n",
    "    data = extract(data)\n",
    "    data = drop_bi(data)\n",
    "    data = drop(data)\n",
    "    data = rep_ls(data)\n",
    "    data = drop_ff(data,\"F&F_Pos_16 (LINE)\")\n",
    "    data = drop_ff(data,\"&nbsp;\")\n",
    "    data = drop_ff(data,\"\\\\\")\n",
    "    return data"
   ]
  },
  {
   "cell_type": "code",
   "execution_count": 24,
   "metadata": {
    "collapsed": true
   },
   "outputs": [],
   "source": [
    "def get_clean_data(date):\n",
    "    url = 'http://travel.mtanyct.info/serviceadvisory/routeStatusResult.aspx?tag=ALL&date='+date+'&time=&method=getstatus4'\n",
    "    return clean(url)"
   ]
  },
  {
   "cell_type": "code",
   "execution_count": 25,
   "metadata": {
    "collapsed": true
   },
   "outputs": [],
   "source": [
    "def get_data_over_period(start, num_of_days):\n",
    "    start_date = datetime.datetime.strptime(start, '%m/%d/20%y')\n",
    "    date_list = [start_date + datetime.timedelta(days=x) for x in range(0, num_of_days)]\n",
    "    dates = list(map(lambda x: x.strftime('%m/%d/20%y'), date_list))\n",
    "    dataset = []\n",
    "    dataset = list(map(get_clean_data, dates))\n",
    "    answer = set(list(list(itertools.chain.from_iterable(dataset))))\n",
    "    return answer"
   ]
  },
  {
   "cell_type": "code",
   "execution_count": 30,
   "metadata": {
    "collapsed": true
   },
   "outputs": [],
   "source": [
    "data = 'http://travel.mtanyct.info/serviceadvisory/routeStatusResult.aspx?tag=ALL&date=11/8/2017&time=&method=getstatus4'"
   ]
  },
  {
   "cell_type": "code",
   "execution_count": 28,
   "metadata": {},
   "outputs": [
    {
     "data": {
      "text/plain": [
       "[' 1_LINE Van Cortlandt Park-bound trains skip Franklin, Canal, Houston, Christopher, 18, 23 and 28 Sts',\n",
       " ' 2_LINE Wakefield-bound trains skip 79 St and 86 St 1_LINE trains provide alternate service',\n",
       " ' 2_LINE Flatbush Av-bound trains skip Bergen St, Grand Army Plaza and Eastern Pkwy',\n",
       " ' 2_LINE Wakefield-bound trains skip Franklin, Canal, Houston, Christopher, 18, 23 and 28 Sts',\n",
       " ' 2_LINE Flatbush Av-bound trains run local from 96 St to Times Sq-42 St',\n",
       " ' 3_LINE New Lots Av-bound trains skip Bergen St, Grand Army Plaza and Eastern Pkwy',\n",
       " ' 3_LINE No trains running',\n",
       " ' 3_LINE New Lots Av-bound trains run local from 96 St to Times Sq-42 St',\n",
       " 'No elevator service to/from the DOWNTOWN platform at Canal St  6_LINE Station',\n",
       " ' 4_LINE Woodlawn-bound trains skip 161 St, 167 St, 170 St, Mt Eden Av and 176 St',\n",
       " ' 4_LINE New Lots Av-bound trains skip Bergen St, Grand Army Plaza and Eastern Pkwy',\n",
       " ' 4_LINE Trains run local in both directions between 125 St and Grand Central-42 St',\n",
       " ' 5_LINE Service ends early between E 180 St and Bowling Green 2_LINE  4_LINE trains provide alternate service',\n",
       " ' 6_LINE ',\n",
       " ' 6_LINE Service operates in two sections:',\n",
       " ' 6_LINE The last stop for alternate trains headed toward Pelham Bay Park is 3 Av-138 St',\n",
       " ' 6_LINE Brooklyn Bridge-bound trains run local from Parkchester to 3 Av-138 St',\n",
       " ' 6_LINE Pelham Bay Park-bound trains run local from 3 Av-138 St to Parkchester',\n",
       " ' 7_LINE Hunters Point Av and Vernon Blvd-Jackson Av - Trains board at the Flushing-bound platform',\n",
       " 'No elevator service to/from the Flushing-bound platform at 61 St-Woodside  7_LINE Station',\n",
       " ' 7_LINE Flushing-bound trains skip 82, 90, 103 and 111 Sts',\n",
       " ' 7_LINE Flushing-bound trains skip 33, 40, 46, 52 and 69 Sts',\n",
       " ' 7_LINE No trains between Main St and Willets Point',\n",
       " ' A_LINE Ozone Park/Far Rockaway-bound trains skip 163, 155, 135, 116, 110, 103, 96, 86, 81 and 72 Sts',\n",
       " ' A_LINE Trains make local stops in both directions at Spring St, 23 St and 50 St',\n",
       " ' A_LINE Inwood-bound trains run local from 59 St-Columbus Circle to 125 St',\n",
       " ' B_LINE No trains between Kings Hwy and Brighton Beach Q_LINE trains provide alternate service',\n",
       " ' C_LINE Euclid Av-bound trains skip 163, 155, 135, 116, 110, 103, 96, 86, 81 and 72 Sts',\n",
       " ' D_LINE  N_LINE  R_LINE Service restored at Prospect Av',\n",
       " ' D_LINE Norwood-bound trains skip 170 St, 174-175 Sts and 182-183 Sts',\n",
       " ' D_LINE Norwood-bound trains make local stops at 72, 81, 86, 96, 103, 110 and 116 Sts',\n",
       " ' D_LINE Norwood-bound trains make local stops at 25 St, Prospect Av, 4 Av-9 St, Union St and DeKalb Av',\n",
       " ' E_LINE No trains between W 4 St and World Trade Center A_LINE trains provide alternate service',\n",
       " ' F_LINE Manhattan-bound platforms at Avenue U, Avenue P, Avenue N, Bay Pkwy  and Avenue I are closed for renovation',\n",
       " ' F_LINE  G_LINE Queens-bound trains skip Fort Hamilton Pkwy, ',\n",
       " ' J_LINE  Z_LINE Manhattan-bound platform at 104 St is closed for renovation',\n",
       " ' J_LINE  Z_LINE Manhattan-bound platform at 121 St is closed for renovation',\n",
       " ' L_LINE Service operates every 12 minutes between Myrtle-Wyckoff Avs and Rockaway Pkwy',\n",
       " ' M_LINE No trains between Myrtle-Wyckoff Av and Myrtle Av (Broadway)',\n",
       " ' N_LINE Coney Island-bound platforms at Fort Hamilton Pkwy, New Utrecht Av, 18 Av, 20 Av, Kings Hwy, Avenue U and 86 St are closed for renovation',\n",
       " ' N_LINE  W_LINE 30 Av and 36 Av are closed for renovation',\n",
       " ' N_LINE No trains in Manhattan',\n",
       " ' Q_LINE Trains are rerouted in Manhattan',\n",
       " ' R_LINE Service ends early in Manhattan and Queens',\n",
       " ' N_LINE Astoria-bound trains run local from 59 St, Brooklyn to DeKalb Av ',\n",
       " ' Q_LINE Coney Island-bound trains run express from Prospect Park to Sheepshead Bay',\n",
       " ' Q_LINE Trains make local stops at 14 St and 23 St  F_LINE stations in both directions',\n",
       " ' Q_LINE Trains run every 16 minutes between Brighton Beach and Stillwell Av',\n",
       " ' R_LINE No service at Whitehall St, Court St, Jay St-MetroTech and DeKalb Av Trains skip Union St, 4 Av-9 St, Prospect Av and 25 St in both directions',\n",
       " ' sir_LINE Fallen leaves may slow service',\n",
       " ' sir_LINE Trains board at the St. George-bound platform from Grant City to Great Kills',\n",
       " ' W_LINE Service ends early']"
      ]
     },
     "execution_count": 28,
     "metadata": {},
     "output_type": "execute_result"
    }
   ],
   "source": [
    "get_clean_data('11/8/2017')"
   ]
  },
  {
   "cell_type": "code",
   "execution_count": 29,
   "metadata": {},
   "outputs": [
    {
     "data": {
      "text/plain": [
       "{' 1_LINE Van Cortlandt Park-bound trains skip 50 St, 59 St and 66 St',\n",
       " ' 1_LINE Van Cortlandt Park-bound trains skip Franklin, Canal, Houston, Christopher, 18, 23 and 28 Sts',\n",
       " ' 2_LINE Flatbush Av-bound trains run local from 96 St to Times Sq-42 St',\n",
       " ' 2_LINE Flatbush Av-bound trains skip Bergen St, Grand Army Plaza and Eastern Pkwy',\n",
       " ' 2_LINE Uptown trains skip 50 St, 59 St and 66 St',\n",
       " ' 2_LINE Wakefield-bound trains skip 79 St and 86 St 1_LINE trains provide alternate service',\n",
       " ' 2_LINE Wakefield-bound trains skip Franklin, Canal, Houston, Christopher, 18, 23 and 28 Sts',\n",
       " ' 2_LINE trains replace weekend  5_LINE service between Dyre Av and E 180 St',\n",
       " ' 3_LINE New Lots Av-bound trains run local from 96 St to Times Sq-42 St',\n",
       " ' 3_LINE New Lots Av-bound trains skip Bergen St, Grand Army Plaza and Eastern Pkwy',\n",
       " ' 3_LINE No trains running',\n",
       " ' 4_LINE New Lots Av-bound trains skip Bergen St, Grand Army Plaza and Eastern Pkwy',\n",
       " ' 4_LINE Service operates every 16 minutes between 125 St and Woodlawn',\n",
       " ' 4_LINE Trains run local in both directions between 125 St and Brooklyn Bridge',\n",
       " ' 4_LINE Trains run local in both directions between 125 St and Grand Central-42 St',\n",
       " ' 4_LINE Woodlawn-bound trains run local from Grand Central-42 St to 125 St',\n",
       " ' 4_LINE Woodlawn-bound trains skip 161 St, 167 St, 170 St, Mt Eden Av and 176 St',\n",
       " ' 5_LINE Service ends early between E 180 St and Bowling Green 2_LINE  4_LINE trains provide alternate service',\n",
       " ' 5_LINE Trains run local in both directions between 125 St and Grand Central-42 St',\n",
       " ' 6_LINE ',\n",
       " ' 6_LINE Brooklyn Bridge-bound trains run local from Parkchester to 3 Av-138 St',\n",
       " ' 6_LINE Pelham Bay Park-bound trains run local from 3 Av-138 St to Parkchester',\n",
       " ' 6_LINE Service operates in two sections:',\n",
       " ' 6_LINE The last stop for alternate trains headed toward Pelham Bay Park is 3 Av-138 St',\n",
       " ' 7_LINE Flushing-bound trains skip 33, 40, 46, 52 and 69 Sts',\n",
       " ' 7_LINE Flushing-bound trains skip 82, 90, 103 and 111 Sts',\n",
       " ' 7_LINE Hunters Point Av and Vernon Blvd-Jackson Av - Trains board at the Flushing-bound platform',\n",
       " ' 7_LINE No trains between Main St and Willets Point',\n",
       " ' 7_LINE No trains between Queensboro Plaza and 34 St-Hudson Yards',\n",
       " ' 7_LINE Vernon Blvd-Jackson Av and Hunters Point Av - Trains board at the Manhattan-bound platform',\n",
       " ' A_LINE Inwood-bound trains run local from 59 St-Columbus Circle to 125 St',\n",
       " ' A_LINE Inwood-bound trains skip Spring St, 23 St and 50 St',\n",
       " ' A_LINE Ozone Park/Far Rockaway-bound trains skip 163, 155, 135, 116, 110, 103, 96, 86, 81 and 72 Sts',\n",
       " ' A_LINE Trains make local stops in both directions at Spring St, 23 St and 50 St',\n",
       " ' B_LINE No trains between Kings Hwy and Brighton Beach Q_LINE trains provide alternate service',\n",
       " ' C_LINE 168 St-bound trains skip Spring St, 23 St and 50 St',\n",
       " ' C_LINE Euclid Av-bound trains skip 163, 155, 135, 116, 110, 103, 96, 86, 81 and 72 Sts',\n",
       " ' D_LINE  N_LINE  R_LINE Service restored at Prospect Av',\n",
       " ' D_LINE Coney Island-bound trains skip Union St, 4 Av-9 St, Prospect Av and 25 St',\n",
       " ' D_LINE Norwood-bound trains make local stops at 25 St, Prospect Av, 4 Av-9 St, Union St and DeKalb Av',\n",
       " ' D_LINE Norwood-bound trains make local stops at 72, 81, 86, 96, 103, 110 and 116 Sts',\n",
       " ' D_LINE Norwood-bound trains skip 170 St, 174-175 Sts and 182-183 Sts',\n",
       " ' D_LINE Norwood-bound trains skip 20 Av, 18 Av, 79, 71, 55, 50 Sts and Fort Hamilton Pkwy',\n",
       " ' E_LINE Jamaica Center-bound trains skip Spring St and 23 St',\n",
       " ' E_LINE No trains between W 4 St and World Trade Center A_LINE trains provide alternate service',\n",
       " ' F_LINE  G_LINE Queens-bound trains skip Fort Hamilton Pkwy, ',\n",
       " ' F_LINE Jamaica-bound trains skip 14 St and 23 St',\n",
       " ' F_LINE Manhattan-bound platforms at Avenue U, Avenue P, Avenue N, Bay Pkwy  and Avenue I are closed for renovation',\n",
       " ' J_LINE  Z_LINE Manhattan-bound platform at 104 St is closed for renovation',\n",
       " ' J_LINE  Z_LINE Manhattan-bound platform at 121 St is closed for renovation',\n",
       " ' J_LINE No trains between Hewes St and Broad St M_LINE No trains between Broadway Junction and Essex St',\n",
       " ' L_LINE Service operates every 12 minutes between Myrtle-Wyckoff Avs and Rockaway Pkwy',\n",
       " ' M_LINE No trains between Myrtle-Wyckoff Av and Myrtle Av (Broadway)',\n",
       " ' M_LINE Shuttle trains run every 20 minutes between Metropolitan Av and Myrtle-Wyckoff Avs',\n",
       " ' N_LINE  W_LINE 30 Av and 36 Av are closed for renovation',\n",
       " ' N_LINE Astoria-bound trains run local from 59 St, Brooklyn to DeKalb Av ',\n",
       " ' N_LINE Astoria-bound trains skip 39 Av and Broadway',\n",
       " ' N_LINE Coney Island-bound platforms at Fort Hamilton Pkwy, New Utrecht Av, 18 Av, 20 Av, Kings Hwy, Avenue U and 86 St are closed for renovation',\n",
       " ' N_LINE No trains in Manhattan',\n",
       " ' Q_LINE Coney Island-bound trains run express from Prospect Park to Sheepshead Bay',\n",
       " ' Q_LINE No trains between Brighton Beach and Stillwell Av',\n",
       " ' Q_LINE Trains are rerouted in Manhattan',\n",
       " ' Q_LINE Trains make local stops at 14 St and 23 St  F_LINE stations in both directions',\n",
       " ' Q_LINE Trains run every 16 minutes between Brighton Beach and Stillwell Av',\n",
       " ' R_LINE Bay Ridge-bound trains run express from Atlantic Av-Barclays Ctr to 59 St, Brooklyn',\n",
       " ' R_LINE No service at Whitehall St, Court St, Jay St-MetroTech and DeKalb Av Trains skip Union St, 4 Av-9 St, Prospect Av and 25 St in both directions',\n",
       " ' R_LINE Service ends early in Manhattan and Queens',\n",
       " ' S_LINE 42 Street Shuttle service operates overnight',\n",
       " ' W_LINE Astoria-bound trains skip 39 Av and Broadway',\n",
       " ' W_LINE Service ends early',\n",
       " ' W_LINE Special service operates between Whitehall St and Ditmars Blvd',\n",
       " ' sir_LINE Fallen leaves may slow service',\n",
       " ' sir_LINE Trains board at the St. George-bound platform from Grant City to Great Kills',\n",
       " \" sir_LINE Trains board at the St. George-bound platform from Prince's Bay to Arthur Kill Stations\",\n",
       " '< 7_LINE Queensboro Plaza-bound trains skip 69, 52, 46, 40 and 33 Sts',\n",
       " 'N> Coney Island-bound trains run express from Atlantic Av-Barclays Ctr to 59 St, Brooklyn ',\n",
       " 'No elevator service at 96 St  Q_LINE Station',\n",
       " 'No elevator service to/from the DOWNTOWN platform at Canal St  6_LINE Station',\n",
       " 'No elevator service to/from the Flushing-bound platform at 61 St-Woodside  7_LINE Station',\n",
       " 'Station',\n",
       " 'Weekend  2_LINE  3_LINE station closures and route changes'}"
      ]
     },
     "execution_count": 29,
     "metadata": {},
     "output_type": "execute_result"
    }
   ],
   "source": [
    "get_data_over_period('11/8/2017', 5)"
   ]
  },
  {
   "cell_type": "code",
   "execution_count": null,
   "metadata": {
    "collapsed": true
   },
   "outputs": [],
   "source": []
  }
 ],
 "metadata": {
  "kernelspec": {
   "display_name": "Python 3",
   "language": "python",
   "name": "python3"
  },
  "language_info": {
   "codemirror_mode": {
    "name": "ipython",
    "version": 3
   },
   "file_extension": ".py",
   "mimetype": "text/x-python",
   "name": "python",
   "nbconvert_exporter": "python",
   "pygments_lexer": "ipython3",
   "version": "3.6.1"
  }
 },
 "nbformat": 4,
 "nbformat_minor": 2
}
