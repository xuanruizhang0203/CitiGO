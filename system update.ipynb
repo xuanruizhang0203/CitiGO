{
 "cells": [
  {
   "cell_type": "code",
   "execution_count": 1,
   "metadata": {},
   "outputs": [],
   "source": [
    "from Parse import *"
   ]
  },
  {
   "cell_type": "code",
   "execution_count": 3,
   "metadata": {
    "collapsed": true
   },
   "outputs": [],
   "source": [
    "notes = [\n",
    "    ' 2_LINE  5_LINE Uptown trains run express from 3 Av-149 St to E 180 St',\n",
    "    ' 2_LINE Downtown trains run local from 96 St to Times Sq-42 St',\n",
    "    ' 2_LINE Flatbush Av-bound trains skip Nereid Av, 233 St, 225 St and 219 St',\n",
    "    ' 2_LINE trains replace weekend  5_LINE service between Dyre Av and E 180 St',\n",
    "    ' 4_LINE All trains from Junius St to Sutter Av-Rutland Rd board at the New Lots Av-bound platform',\n",
    "    ' 4_LINE No trains between Utica Av and New Lots Av',\n",
    "    ' A_LINE Trains make local stops in both directions at 155 St and 163 St',\n",
    "    ' D_LINE  N_LINE  R_LINE Prospect Av is closed for renovation',\n",
    "    ' F_LINE Jamaica-bound trains are rerouted via the  E_LINE after 47-50 Sts to Roosevelt Av',\n",
    "    ' F_LINE Manhattan-bound platforms at Avenue U, Avenue P, Avenue N, Bay Pkwy  and Avenue I are closed for renovation',\n",
    "    ' L_LINE Service operates every 12 minutes between Myrtle-Wyckoff Avs and Rockaway Pkwy',\n",
    "    ' M_LINE Service ends early between 71 Av and Essex St E_LINE  F_LINE  R_LINE trains provide alternate service',\n",
    "    ' R_LINE Service restored at Bay Ridge Av',\n",
    "    ' sir_LINE Grant City Station Entrance Closure'\n",
    "    ]"
   ]
  }
 ],
 "metadata": {
  "kernelspec": {
   "display_name": "Python 3",
   "language": "python",
   "name": "python3"
  },
  "language_info": {
   "codemirror_mode": {
    "name": "ipython",
    "version": 3
   },
   "file_extension": ".py",
   "mimetype": "text/x-python",
   "name": "python",
   "nbconvert_exporter": "python",
   "pygments_lexer": "ipython3",
   "version": "3.6.1"
  }
 },
 "nbformat": 4,
 "nbformat_minor": 2
}
