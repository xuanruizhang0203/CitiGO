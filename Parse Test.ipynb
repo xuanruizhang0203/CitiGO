{
 "cells": [
  {
   "cell_type": "code",
   "execution_count": 3,
   "metadata": {
    "collapsed": true
   },
   "outputs": [],
   "source": [
    "import nltk \n",
    "from nltk import parse\n",
    "from nltk.grammar import CFG\n",
    "from nltk.tokenize import sent_tokenize, word_tokenize"
   ]
  },
  {
   "cell_type": "code",
   "execution_count": 4,
   "metadata": {},
   "outputs": [
    {
     "name": "stdout",
     "output_type": "stream",
     "text": [
      "4_LINE Woodlawn-bound trains skip 161 St 167 St 170 St Mt Eden Av and 176 St\n"
     ]
    }
   ],
   "source": [
    "#note = \"F_LINE D_LINE Manhattan-bound trains skip 25 St and Union St\"\n",
    "#note1 =  'F_LINE Jamaica-bound trains skip 75 Av, Briarwood and Sutphin Blvd'\n",
    "note = '4_LINE Woodlawn-bound trains skip 161 St, 167 St, 170 St, Mt Eden Av and 176 St'\n",
    "note = note.replace(',', '')\n",
    "tok = word_tokenize(note)\n",
    "print(note)"
   ]
  },
  {
   "cell_type": "code",
   "execution_count": 5,
   "metadata": {},
   "outputs": [
    {
     "name": "stdout",
     "output_type": "stream",
     "text": [
      "[Tree('Sent', [Tree('S', [Tree('Sub', ['4_LINE']), Tree('Direction', [Tree('bound', ['Woodlawn-bound']), Tree('trains', ['trains'])])]), Tree('VP', [Tree('Status', ['skip']), Tree('Stations', [Tree('Stop', [Tree('num', ['161']), Tree('Street', ['St'])]), Tree('Stop', [Tree('num', ['167']), Tree('Street', ['St'])]), Tree('Stop', [Tree('num', ['170']), Tree('Street', ['St'])]), Tree('Stop', [Tree('Loc', ['Mt']), Tree('Loc', ['Eden']), Tree('Street', ['Av'])]), Tree('and', ['and']), Tree('Stop', [Tree('num', ['176']), Tree('Street', ['St'])])])])])]\n",
      "(Sent\n",
      "  (S (Sub 4_LINE) (Direction (bound Woodlawn-bound) (trains trains)))\n",
      "  (VP\n",
      "    (Status skip)\n",
      "    (Stations\n",
      "      (Stop (num 161) (Street St))\n",
      "      (Stop (num 167) (Street St))\n",
      "      (Stop (num 170) (Street St))\n",
      "      (Stop (Loc Mt) (Loc Eden) (Street Av))\n",
      "      (and and)\n",
      "      (Stop (num 176) (Street St)))))\n"
     ]
    }
   ],
   "source": [
    "grammar1 = CFG.fromstring(\"\"\"\n",
    "Sent -> S VP\n",
    "S -> Sub | Sub Direction | Sub Sub Direction\n",
    "Direction -> bound trains\n",
    "VP -> Status Stations\n",
    "Stations -> Stop Stop Stop Stop and Stop\n",
    "Stop -> num Street | Loc Street | Loc Loc Street\n",
    "\n",
    "\n",
    "Sub -> \"4_LINE\"\n",
    "bound -> \"Manhattan-bound\" | \"Jamaica-bound\" | \"Woodlawn-bound\"\n",
    "trains -> \"trains\"\n",
    "Status -> \"skip\"\n",
    "num -> \"25\" | \"75\"| \"161\" | \"167\" | \"170\" | \"176\"\n",
    "Street -> \"St\" | \"Av\" | \"Blvd\"\n",
    "Loc -> \"Union\" | \"Sutphin\" | \"Briarwood\" | \"Mt\" | \"Eden\"\n",
    "Service -> \"service\"\n",
    "and -> \"and\"\n",
    "\n",
    "\"\"\")\n",
    "\n",
    "parser = nltk.RecursiveDescentParser(grammar1)\n",
    "tree2 = parser.parse(note.split(' '))\n",
    "a = []\n",
    "for t in tree2:\n",
    "    a.append(t)\n",
    "    print(a)\n",
    "    print(t)\n",
    "    t.draw()"
   ]
  },
  {
   "cell_type": "code",
   "execution_count": 6,
   "metadata": {},
   "outputs": [
    {
     "name": "stdout",
     "output_type": "stream",
     "text": [
      "['4_LINE']\n"
     ]
    },
    {
     "data": {
      "text/plain": [
       "{'Direction': ['Woodlawn-bound'],\n",
       " 'Stations': ['161 St', '167 St', '170 St', 'Mt Eden Av', '176 St'],\n",
       " 'Status': ['skip'],\n",
       " 'Subways': ['4_LINE']}"
      ]
     },
     "execution_count": 6,
     "metadata": {},
     "output_type": "execute_result"
    }
   ],
   "source": [
    "dic = {'Subways': [],\n",
    "       'Direction': [],\n",
    "       'Status': [],\n",
    "       'Stations': []}\n",
    "\n",
    "for subtree3 in a[0].subtrees():\n",
    "    if subtree3.label() == 'Sub':\n",
    "        #print(subtree3)\n",
    "        sub = subtree3.leaves()\n",
    "        print(sub)\n",
    "        dic['Subways'].append(sub[0])\n",
    "    if subtree3.label() == 'Direction':\n",
    "        direc = subtree3.leaves()\n",
    "        #print(direc)\n",
    "        dic['Direction'].append(direc[0])\n",
    "    if subtree3.label() == 'Status':\n",
    "        stat = subtree3.leaves()\n",
    "        #print(stat)\n",
    "        dic['Status'].append(stat[0])\n",
    "    if subtree3.label() == 'Stations':\n",
    "        for subtree4 in subtree3.subtrees():\n",
    "            if subtree4.label() == 'Stop':\n",
    "                stop = subtree4.leaves()\n",
    "                string = ''\n",
    "                for i in range(len(stop)):\n",
    "                    string +=  ' ' + stop[i]\n",
    "                string = string[1:]\n",
    "                dic['Stations'].append(string)\n",
    "                \n",
    "        \n",
    "        \n",
    "dic\n",
    "\n"
   ]
  },
  {
   "cell_type": "code",
   "execution_count": null,
   "metadata": {
    "collapsed": true
   },
   "outputs": [],
   "source": []
  }
 ],
 "metadata": {
  "kernelspec": {
   "display_name": "Python 3",
   "language": "python",
   "name": "python3"
  },
  "language_info": {
   "codemirror_mode": {
    "name": "ipython",
    "version": 3
   },
   "file_extension": ".py",
   "mimetype": "text/x-python",
   "name": "python",
   "nbconvert_exporter": "python",
   "pygments_lexer": "ipython3",
   "version": "3.6.1"
  }
 },
 "nbformat": 4,
 "nbformat_minor": 2
}
