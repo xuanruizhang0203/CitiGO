{
 "cells": [
  {
   "cell_type": "code",
   "execution_count": 25,
   "metadata": {
    "collapsed": true
   },
   "outputs": [],
   "source": [
    "import nltk \n",
    "from nltk import parse\n",
    "from nltk.grammar import CFG\n",
    "from nltk.tokenize import sent_tokenize, word_tokenize\n",
    "import pandas as pd"
   ]
  },
  {
   "cell_type": "code",
   "execution_count": 67,
   "metadata": {},
   "outputs": [
    {
     "name": "stdout",
     "output_type": "stream",
     "text": [
      "14\n"
     ]
    },
    {
     "data": {
      "text/plain": [
       "' 2_LINE Downtown trains run local from 96 St to Times Sq-42 St'"
      ]
     },
     "execution_count": 67,
     "metadata": {},
     "output_type": "execute_result"
    }
   ],
   "source": [
    "#note = \"F_LINE D_LINE Manhattan-bound trains skip 25 St and Union St\"\n",
    "#note1 =  'F_LINE Jamaica-bound trains skip 75 Av, Briarwood and Sutphin Blvd'\n",
    "#note = '4_LINE Woodlawn-bound trains skip 161 St, 167 St, 170 St, Mt Eden Av and 176 St'\n",
    "#note1 = 'Coney Island-bound trains skip Union St, 4 Av-9 St and 25 St'\n",
    "\n",
    "l = 1\n",
    "data = pd.read_csv('notes&type.csv')\n",
    "print(len(data))\n",
    "\n",
    "def note_tsf(note):\n",
    "    note = note.replace(',','')\n",
    "    note = note.replace('Av-', 'Av $ ')\n",
    "    return note\n",
    "note = note_tsf(data.iloc[l][0])\n",
    "note"
   ]
  },
  {
   "cell_type": "code",
   "execution_count": 54,
   "metadata": {},
   "outputs": [
    {
     "name": "stdout",
     "output_type": "stream",
     "text": [
      " 2_LINE  5_LINE Uptown trains run express from 3 Av-149 St to E 180 St\n",
      " 2_LINE Downtown trains run local from 96 St to Times Sq-42 St\n",
      " 2_LINE Flatbush Av-bound trains skip Nereid Av, 233 St, 225 St and 219 St\n",
      " 2_LINE trains replace weekend  5_LINE service between Dyre Av and E 180 St\n",
      " 4_LINE All trains from Junius St to Sutter Av-Rutland Rd board at the New Lots Av-bound platform\n",
      " 4_LINE No trains between Utica Av and New Lots Av\n",
      " A_LINE Trains make local stops in both directions at 155 St and 163 St\n",
      " D_LINE  N_LINE  R_LINE Prospect Av is closed for renovation\n",
      " F_LINE Jamaica-bound trains are rerouted via the  E_LINE after 47-50 Sts to Roosevelt Av\n",
      " F_LINE Manhattan-bound platforms at Avenue U, Avenue P, Avenue N, Bay Pkwy  and Avenue I are closed for renovation\n",
      " L_LINE Service operates every 12 minutes between Myrtle-Wyckoff Avs and Rockaway Pkwy\n",
      " M_LINE Service ends early between 71 Av and Essex St E_LINE  F_LINE  R_LINE trains provide alternate service\n",
      " R_LINE Service restored at Bay Ridge Av\n",
      " sir_LINE Grant City Station Entrance Closure\n"
     ]
    },
    {
     "data": {
      "text/plain": [
       "[' 2_LINE  5_LINE Uptown trains run express from 3 Av-149 St to E 180 St',\n",
       " ' 2_LINE Downtown trains run local from 96 St to Times Sq-42 St',\n",
       " ' 2_LINE Flatbush Av-bound trains skip Nereid Av, 233 St, 225 St and 219 St',\n",
       " ' 2_LINE trains replace weekend  5_LINE service between Dyre Av and E 180 St',\n",
       " ' 4_LINE All trains from Junius St to Sutter Av-Rutland Rd board at the New Lots Av-bound platform',\n",
       " ' 4_LINE No trains between Utica Av and New Lots Av',\n",
       " ' A_LINE Trains make local stops in both directions at 155 St and 163 St',\n",
       " ' D_LINE  N_LINE  R_LINE Prospect Av is closed for renovation',\n",
       " ' F_LINE Jamaica-bound trains are rerouted via the  E_LINE after 47-50 Sts to Roosevelt Av',\n",
       " ' F_LINE Manhattan-bound platforms at Avenue U, Avenue P, Avenue N, Bay Pkwy  and Avenue I are closed for renovation',\n",
       " ' L_LINE Service operates every 12 minutes between Myrtle-Wyckoff Avs and Rockaway Pkwy',\n",
       " ' M_LINE Service ends early between 71 Av and Essex St E_LINE  F_LINE  R_LINE trains provide alternate service',\n",
       " ' R_LINE Service restored at Bay Ridge Av',\n",
       " ' sir_LINE Grant City Station Entrance Closure']"
      ]
     },
     "execution_count": 54,
     "metadata": {},
     "output_type": "execute_result"
    }
   ],
   "source": [
    "\n",
    "# note = []\n",
    "# for a in range(len(data)):\n",
    "#     s = data.iloc[a]\n",
    "#     note.append(s[0])\n",
    "#     print (s[0])\n",
    "   \n",
    "# s = []\n",
    "# for i in note:\n",
    "#     i.replace(',', '')\n",
    "#     i.replace('Av-', 'Av $ ')\n",
    "#     s.append(i)\n",
    "    \n",
    "# s\n"
   ]
  },
  {
   "cell_type": "code",
   "execution_count": 65,
   "metadata": {},
   "outputs": [
    {
     "name": "stdout",
     "output_type": "stream",
     "text": [
      "[Tree('Sent', [Tree('S', [Tree('Sub', ['Coney']), Tree('Direction', [Tree('bound', ['Island-bound']), Tree('trains', ['trains'])])]), Tree('VP', [Tree('Status', ['skip']), Tree('Stations', [Tree('Stop', [Tree('Loc', ['Union']), Tree('Street', ['St'])]), Tree('Stop', [Tree('num', ['4']), Tree('Street', ['Av']), Tree('intersect', ['$']), Tree('num', ['9']), Tree('Street', ['St'])]), Tree('and', ['and']), Tree('Stop', [Tree('num', ['25']), Tree('Street', ['St'])])])])])]\n",
      "(Sent\n",
      "  (S (Sub Coney) (Direction (bound Island-bound) (trains trains)))\n",
      "  (VP\n",
      "    (Status skip)\n",
      "    (Stations\n",
      "      (Stop (Loc Union) (Street St))\n",
      "      (Stop (num 4) (Street Av) (intersect $) (num 9) (Street St))\n",
      "      (and and)\n",
      "      (Stop (num 25) (Street St)))))\n"
     ]
    }
   ],
   "source": [
    "grammar1 = CFG.fromstring(\"\"\"\n",
    "Sent -> S VP\n",
    "S -> Sub | Sub Direction | Sub Sub Direction\n",
    "Direction -> bound trains\n",
    "VP -> Status Stations\n",
    "Stations -> Stop | Stop Stop | Stop and Stop | Stop Stop and Stop | Stop Stop Stop Stop and Stop\n",
    "Stop -> num Street | Loc Street | Loc Loc Ave |num Street intersect num Street\n",
    "\n",
    "\n",
    "Sub -> \"4_LINE\" |\"Coney\"\n",
    "bound -> \"Manhattan-bound\" | \"Jamaica-bound\" | \"Woodlawn-bound\" | \"Island-bound\"\n",
    "trains -> \"trains\"\n",
    "Status -> \"skip\" | \"run express\" | \"run local\" | \"replace\" | \"platform change\"\n",
    "num -> \"25\" | \"75\"| \"161\" | \"167\" | \"170\" | \"176\" | \"4\" | \"9\"\n",
    "Street -> \"St\" | \"Av\" | \"Blvd\" | \"Av- \"\n",
    "Loc -> \"Union\" | \"Sutphin\" | \"Briarwood\" | \"Mt\" | \"Eden\"\n",
    "Service -> \"service\"\n",
    "and -> \"and\"\n",
    "intersect -> \"$\"\n",
    "\n",
    "\"\"\")\n",
    "\n",
    "parser = nltk.RecursiveDescentParser(grammar1)\n",
    "tree2 = parser.parse(note.split(' '))\n",
    "a = []\n",
    "for t in tree2:\n",
    "    a.append(t)\n",
    "    print(a)\n",
    "    print(t)\n",
    "    t.draw()"
   ]
  },
  {
   "cell_type": "code",
   "execution_count": 66,
   "metadata": {},
   "outputs": [
    {
     "name": "stdout",
     "output_type": "stream",
     "text": [
      "['Coney']\n"
     ]
    },
    {
     "data": {
      "text/plain": [
       "{'Direction': ['Island-bound'],\n",
       " 'Stations': ['Union St', '4 Av $ 9 St', '25 St'],\n",
       " 'Status': ['skip'],\n",
       " 'Subways': ['Coney']}"
      ]
     },
     "execution_count": 66,
     "metadata": {},
     "output_type": "execute_result"
    }
   ],
   "source": [
    "dic = {'Subways': [],\n",
    "       'Direction': [],\n",
    "       'Status': [],\n",
    "       'Stations': []}\n",
    "\n",
    "for subtree3 in a[0].subtrees():\n",
    "    if subtree3.label() == 'Sub':\n",
    "        #print(subtree3)\n",
    "        sub = subtree3.leaves()\n",
    "        print(sub)\n",
    "        dic['Subways'].append(sub[0])\n",
    "    if subtree3.label() == 'Direction':\n",
    "        direc = subtree3.leaves()\n",
    "        #print(direc)\n",
    "        dic['Direction'].append(direc[0])\n",
    "    if subtree3.label() == 'Status':\n",
    "        stat = subtree3.leaves()\n",
    "        #print(stat)\n",
    "        dic['Status'].append(stat[0])\n",
    "    if subtree3.label() == 'Stations':\n",
    "        for subtree4 in subtree3.subtrees():\n",
    "            if subtree4.label() == 'Stop':\n",
    "                stop = subtree4.leaves()\n",
    "                string = ''\n",
    "                for i in range(len(stop)):\n",
    "                    string +=  ' ' + stop[i]\n",
    "                string = string[1:]\n",
    "                dic['Stations'].append(string)\n",
    "                \n",
    "        \n",
    "        \n",
    "dic\n",
    "\n",
    "\n"
   ]
  },
  {
   "cell_type": "code",
   "execution_count": null,
   "metadata": {
    "collapsed": true
   },
   "outputs": [],
   "source": []
  }
 ],
 "metadata": {
  "kernelspec": {
   "display_name": "Python 3",
   "language": "python",
   "name": "python3"
  },
  "language_info": {
   "codemirror_mode": {
    "name": "ipython",
    "version": 3
   },
   "file_extension": ".py",
   "mimetype": "text/x-python",
   "name": "python",
   "nbconvert_exporter": "python",
   "pygments_lexer": "ipython3",
   "version": "3.6.1"
  }
 },
 "nbformat": 4,
 "nbformat_minor": 2
}
